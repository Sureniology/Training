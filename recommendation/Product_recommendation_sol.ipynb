{
 "cells": [
  {
   "cell_type": "markdown",
   "id": "2fe051e6-8a72-4ab7-abb5-026417d3911c",
   "metadata": {
    "tags": []
   },
   "source": [
    "### **Import Libraries**"
   ]
  },
  {
   "cell_type": "code",
   "execution_count": 2,
   "id": "9fc4f742-2799-4d23-be9b-ed92b50e7724",
   "metadata": {
    "tags": []
   },
   "outputs": [
    {
     "name": "stdout",
     "output_type": "stream",
     "text": [
      "Requirement already satisfied: matplotlib in ./.conda/envs/default/lib/python3.9/site-packages (3.6.2)\n",
      "Requirement already satisfied: pillow>=6.2.0 in ./.conda/envs/default/lib/python3.9/site-packages (from matplotlib) (9.3.0)\n",
      "Requirement already satisfied: cycler>=0.10 in ./.conda/envs/default/lib/python3.9/site-packages (from matplotlib) (0.11.0)\n",
      "Requirement already satisfied: numpy>=1.19 in ./.conda/envs/default/lib/python3.9/site-packages (from matplotlib) (1.23.5)\n",
      "Requirement already satisfied: python-dateutil>=2.7 in ./.conda/envs/default/lib/python3.9/site-packages (from matplotlib) (2.8.2)\n",
      "Requirement already satisfied: fonttools>=4.22.0 in ./.conda/envs/default/lib/python3.9/site-packages (from matplotlib) (4.38.0)\n",
      "Requirement already satisfied: kiwisolver>=1.0.1 in ./.conda/envs/default/lib/python3.9/site-packages (from matplotlib) (1.4.4)\n",
      "Requirement already satisfied: packaging>=20.0 in ./.conda/envs/default/lib/python3.9/site-packages (from matplotlib) (21.3)\n",
      "Requirement already satisfied: pyparsing>=2.2.1 in ./.conda/envs/default/lib/python3.9/site-packages (from matplotlib) (3.0.9)\n",
      "Requirement already satisfied: contourpy>=1.0.1 in ./.conda/envs/default/lib/python3.9/site-packages (from matplotlib) (1.0.6)\n",
      "Requirement already satisfied: six>=1.5 in ./.conda/envs/default/lib/python3.9/site-packages (from python-dateutil>=2.7->matplotlib) (1.16.0)\n",
      "Note: you may need to restart the kernel to use updated packages.\n",
      "Requirement already satisfied: seaborn in ./.conda/envs/default/lib/python3.9/site-packages (0.12.1)\n",
      "Requirement already satisfied: matplotlib!=3.6.1,>=3.1 in ./.conda/envs/default/lib/python3.9/site-packages (from seaborn) (3.6.2)\n",
      "Requirement already satisfied: pandas>=0.25 in ./.conda/envs/default/lib/python3.9/site-packages (from seaborn) (1.5.1)\n",
      "Requirement already satisfied: numpy>=1.17 in ./.conda/envs/default/lib/python3.9/site-packages (from seaborn) (1.23.5)\n",
      "Requirement already satisfied: python-dateutil>=2.7 in ./.conda/envs/default/lib/python3.9/site-packages (from matplotlib!=3.6.1,>=3.1->seaborn) (2.8.2)\n",
      "Requirement already satisfied: fonttools>=4.22.0 in ./.conda/envs/default/lib/python3.9/site-packages (from matplotlib!=3.6.1,>=3.1->seaborn) (4.38.0)\n",
      "Requirement already satisfied: pillow>=6.2.0 in ./.conda/envs/default/lib/python3.9/site-packages (from matplotlib!=3.6.1,>=3.1->seaborn) (9.3.0)\n",
      "Requirement already satisfied: kiwisolver>=1.0.1 in ./.conda/envs/default/lib/python3.9/site-packages (from matplotlib!=3.6.1,>=3.1->seaborn) (1.4.4)\n",
      "Requirement already satisfied: packaging>=20.0 in ./.conda/envs/default/lib/python3.9/site-packages (from matplotlib!=3.6.1,>=3.1->seaborn) (21.3)\n",
      "Requirement already satisfied: pyparsing>=2.2.1 in ./.conda/envs/default/lib/python3.9/site-packages (from matplotlib!=3.6.1,>=3.1->seaborn) (3.0.9)\n",
      "Requirement already satisfied: contourpy>=1.0.1 in ./.conda/envs/default/lib/python3.9/site-packages (from matplotlib!=3.6.1,>=3.1->seaborn) (1.0.6)\n",
      "Requirement already satisfied: cycler>=0.10 in ./.conda/envs/default/lib/python3.9/site-packages (from matplotlib!=3.6.1,>=3.1->seaborn) (0.11.0)\n",
      "Requirement already satisfied: pytz>=2020.1 in ./.conda/envs/default/lib/python3.9/site-packages (from pandas>=0.25->seaborn) (2022.6)\n",
      "Requirement already satisfied: six>=1.5 in ./.conda/envs/default/lib/python3.9/site-packages (from python-dateutil>=2.7->matplotlib!=3.6.1,>=3.1->seaborn) (1.16.0)\n",
      "Note: you may need to restart the kernel to use updated packages.\n",
      "Requirement already satisfied: surprise in ./.conda/envs/default/lib/python3.9/site-packages (0.1)\n",
      "Requirement already satisfied: scikit-surprise in ./.conda/envs/default/lib/python3.9/site-packages (from surprise) (1.1.3)\n",
      "Requirement already satisfied: numpy>=1.17.3 in ./.conda/envs/default/lib/python3.9/site-packages (from scikit-surprise->surprise) (1.23.5)\n",
      "Requirement already satisfied: joblib>=1.0.0 in ./.conda/envs/default/lib/python3.9/site-packages (from scikit-surprise->surprise) (1.2.0)\n",
      "Requirement already satisfied: scipy>=1.3.2 in ./.conda/envs/default/lib/python3.9/site-packages (from scikit-surprise->surprise) (1.9.3)\n",
      "Note: you may need to restart the kernel to use updated packages.\n",
      "Requirement already satisfied: sklearn in ./.conda/envs/default/lib/python3.9/site-packages (0.0.post1)\n",
      "Note: you may need to restart the kernel to use updated packages.\n"
     ]
    }
   ],
   "source": [
    "%pip install matplotlib\n",
    "%pip install seaborn\n",
    "%pip install surprise\n",
    "%pip install sklearn"
   ]
  },
  {
   "cell_type": "code",
   "execution_count": 3,
   "id": "1785f5fe-fa8b-4321-95de-79498e7eb887",
   "metadata": {},
   "outputs": [
    {
     "name": "stdout",
     "output_type": "stream",
     "text": [
      "Requirement already satisfied: scikit-learn in ./.conda/envs/default/lib/python3.9/site-packages (1.1.3)\n",
      "Requirement already satisfied: threadpoolctl>=2.0.0 in ./.conda/envs/default/lib/python3.9/site-packages (from scikit-learn) (3.1.0)\n",
      "Requirement already satisfied: numpy>=1.17.3 in ./.conda/envs/default/lib/python3.9/site-packages (from scikit-learn) (1.23.5)\n",
      "Requirement already satisfied: joblib>=1.0.0 in ./.conda/envs/default/lib/python3.9/site-packages (from scikit-learn) (1.2.0)\n",
      "Requirement already satisfied: scipy>=1.3.2 in ./.conda/envs/default/lib/python3.9/site-packages (from scikit-learn) (1.9.3)\n",
      "Note: you may need to restart the kernel to use updated packages.\n"
     ]
    }
   ],
   "source": [
    "%pip install scikit-learn"
   ]
  },
  {
   "cell_type": "code",
   "execution_count": 4,
   "id": "26e408bf-e933-48f0-a7f6-ff604f233f73",
   "metadata": {},
   "outputs": [],
   "source": [
    "# Used to ignore the warning given as output of the code\n",
    "import warnings                                 \n",
    "warnings.filterwarnings('ignore')\n",
    "\n",
    "# Basic libraries of python for numeric and dataframe computations\n",
    "import numpy as np\n",
    "import pandas as pd\n",
    "\n",
    "# Basic library for data visualization\n",
    "import matplotlib.pyplot as plt     \n",
    "\n",
    "# Slightly advanced library for data visualization            \n",
    "import seaborn as sns                           \n",
    "\n",
    "# A dictionary output that does not raise a key error\n",
    "from collections import defaultdict             \n",
    "\n",
    "# A performance metrics in surprise\n",
    "from surprise import accuracy\n",
    "\n",
    "# Class is used to parse a file containing ratings, data should be in structure - user ; item ; rating\n",
    "from surprise.reader import Reader\n",
    "\n",
    "# Class for loading datasets\n",
    "from surprise.dataset import Dataset\n",
    "\n",
    "# For model tuning model hyper-parameters\n",
    "from surprise.model_selection import GridSearchCV\n",
    "\n",
    "# For splitting the rating data in train and test dataset\n",
    "from surprise.model_selection import train_test_split\n",
    "\n",
    "# For implementing similarity based recommendation system\n",
    "from surprise.prediction_algorithms.knns import KNNBasic\n",
    "\n",
    "# For implementing matrix factorization based recommendation system\n",
    "from surprise.prediction_algorithms.matrix_factorization import SVD\n",
    "\n",
    "# For implementing cross validation\n",
    "from surprise.model_selection import KFold"
   ]
  },
  {
   "cell_type": "code",
   "execution_count": 5,
   "id": "50de0b77-3945-4466-b4f4-a19b6a4663eb",
   "metadata": {},
   "outputs": [],
   "source": [
    "# Import the dataset\n",
    "rating = pd.read_csv('dataset/ratings_Electronics.csv', names=['user_id', 'item_id', 'rating', 'timestamp'])\n",
    "rating = rating.drop('timestamp', axis=1) # Dropping timestamp"
   ]
  },
  {
   "cell_type": "code",
   "execution_count": 6,
   "id": "5ff161d5-c48c-4f45-8bc2-7d0a59250581",
   "metadata": {},
   "outputs": [
    {
     "name": "stdout",
     "output_type": "stream",
     "text": [
      "<class 'pandas.core.frame.DataFrame'>\n",
      "RangeIndex: 7824482 entries, 0 to 7824481\n",
      "Data columns (total 3 columns):\n",
      " #   Column   Dtype  \n",
      "---  ------   -----  \n",
      " 0   user_id  object \n",
      " 1   item_id  object \n",
      " 2   rating   float64\n",
      "dtypes: float64(1), object(2)\n",
      "memory usage: 179.1+ MB\n"
     ]
    }
   ],
   "source": [
    "rating.info()"
   ]
  },
  {
   "cell_type": "markdown",
   "id": "46053476-23ea-4294-a791-e97f26314ff3",
   "metadata": {
    "tags": []
   },
   "source": [
    "### **Exploring the dataset**"
   ]
  },
  {
   "cell_type": "code",
   "execution_count": 7,
   "id": "21605045-8299-45fe-a654-eed241a5feb1",
   "metadata": {},
   "outputs": [
    {
     "data": {
      "text/html": [
       "<div>\n",
       "<style scoped>\n",
       "    .dataframe tbody tr th:only-of-type {\n",
       "        vertical-align: middle;\n",
       "    }\n",
       "\n",
       "    .dataframe tbody tr th {\n",
       "        vertical-align: top;\n",
       "    }\n",
       "\n",
       "    .dataframe thead th {\n",
       "        text-align: right;\n",
       "    }\n",
       "</style>\n",
       "<table border=\"1\" class=\"dataframe\">\n",
       "  <thead>\n",
       "    <tr style=\"text-align: right;\">\n",
       "      <th></th>\n",
       "      <th>user_id</th>\n",
       "      <th>item_id</th>\n",
       "      <th>rating</th>\n",
       "    </tr>\n",
       "  </thead>\n",
       "  <tbody>\n",
       "    <tr>\n",
       "      <th>0</th>\n",
       "      <td>AKM1MP6P0OYPR</td>\n",
       "      <td>0132793040</td>\n",
       "      <td>5.0</td>\n",
       "    </tr>\n",
       "    <tr>\n",
       "      <th>1</th>\n",
       "      <td>A2CX7LUOHB2NDG</td>\n",
       "      <td>0321732944</td>\n",
       "      <td>5.0</td>\n",
       "    </tr>\n",
       "    <tr>\n",
       "      <th>2</th>\n",
       "      <td>A2NWSAGRHCP8N5</td>\n",
       "      <td>0439886341</td>\n",
       "      <td>1.0</td>\n",
       "    </tr>\n",
       "    <tr>\n",
       "      <th>3</th>\n",
       "      <td>A2WNBOD3WNDNKT</td>\n",
       "      <td>0439886341</td>\n",
       "      <td>3.0</td>\n",
       "    </tr>\n",
       "    <tr>\n",
       "      <th>4</th>\n",
       "      <td>A1GI0U4ZRJA8WN</td>\n",
       "      <td>0439886341</td>\n",
       "      <td>1.0</td>\n",
       "    </tr>\n",
       "  </tbody>\n",
       "</table>\n",
       "</div>"
      ],
      "text/plain": [
       "          user_id     item_id  rating\n",
       "0   AKM1MP6P0OYPR  0132793040     5.0\n",
       "1  A2CX7LUOHB2NDG  0321732944     5.0\n",
       "2  A2NWSAGRHCP8N5  0439886341     1.0\n",
       "3  A2WNBOD3WNDNKT  0439886341     3.0\n",
       "4  A1GI0U4ZRJA8WN  0439886341     1.0"
      ]
     },
     "execution_count": 7,
     "metadata": {},
     "output_type": "execute_result"
    }
   ],
   "source": [
    "# Printing the top 5 rows of the dataset\n",
    "rating.head()"
   ]
  },
  {
   "cell_type": "code",
   "execution_count": 8,
   "id": "50a6fee8-8a7f-492d-b267-6c65db0a0f60",
   "metadata": {},
   "outputs": [
    {
     "data": {
      "image/png": "[encoded data removed]",
      "text/plain": [
       "<Figure size 1200x400 with 1 Axes>"
      ]
     },
     "metadata": {},
     "output_type": "display_data"
    }
   ],
   "source": [
    "plt.figure(figsize = (12, 4))\n",
    "sns.countplot(x=\"rating\", data=rating)\n",
    "\n",
    "plt.tick_params(labelsize = 10)\n",
    "plt.title(\"Distribution of Ratings \", fontsize = 10)\n",
    "plt.xlabel(\"Ratings\", fontsize = 10)\n",
    "plt.ylabel(\"Number of Ratings\", fontsize = 10)\n",
    "plt.ticklabel_format(useOffset=False, style='plain', axis='y')\n",
    "plt.show()"
   ]
  },
  {
   "cell_type": "code",
   "execution_count": 9,
   "id": "6921ae60-6ee3-4f31-b9d0-9f89ba0b6e35",
   "metadata": {},
   "outputs": [],
   "source": [
    "# Copying the data to another DataFrame\n",
    "df=rating.copy()"
   ]
  },
  {
   "cell_type": "markdown",
   "id": "e1721697-5749-4a1e-b514-596dab29173e",
   "metadata": {},
   "source": [
    "As this dataset is very large and has 7824482 observations, it is not computationally possible to build a model using this.Moreover, there are many users who have only rated a few products and also there are products which are rated by very less users. Hence we can reduce the dataset by considering certain Logical assumption.\n",
    "\n",
    "Here, We will be taking users who have given at least 50 rating, and the products who has at least 5 rating, as when we shop online we prefer to have some number of rating of a product."
   ]
  },
  {
   "cell_type": "code",
   "execution_count": 10,
   "id": "3cb40717-898b-4402-b19f-4f7ed3212588",
   "metadata": {},
   "outputs": [],
   "source": [
    "# Get the column containing the users\n",
    "users = rating.user_id\n",
    "# Create a dictionary from users to their number of ratings\n",
    "ratings_count = dict()\n",
    "for user in users:\n",
    "    # If we already have the user, just add 1 to their rating count\n",
    "    if user in ratings_count:\n",
    "        ratings_count[user] += 1\n",
    "    # Otherwise, set their rating count to 1\n",
    "    else:\n",
    "        ratings_count[user] = 1  "
   ]
  },
  {
   "cell_type": "code",
   "execution_count": 11,
   "id": "c001274d-1d8a-4c61-aacb-f658d63eefec",
   "metadata": {},
   "outputs": [],
   "source": [
    "# We want our users to have at least 50 ratings to be considred\n",
    "RATINGS_CUTOFF = 50\n",
    "remove_users = []\n",
    "for user, num_ratings in ratings_count.items():\n",
    "    if num_ratings < RATINGS_CUTOFF:\n",
    "        remove_users.append(user)\n",
    "rating = rating.loc[~rating.user_id.isin(remove_users)]"
   ]
  },
  {
   "cell_type": "code",
   "execution_count": 12,
   "id": "c4beb2ff-7754-4785-bcc7-3c5d044dcef7",
   "metadata": {},
   "outputs": [
    {
     "data": {
      "text/plain": [
       "(125871, 3)"
      ]
     },
     "execution_count": 12,
     "metadata": {},
     "output_type": "execute_result"
    }
   ],
   "source": [
    "rating.shape"
   ]
  },
  {
   "cell_type": "code",
   "execution_count": 13,
   "id": "3ed49274-091b-4cc4-a3dc-b7e5d125be3a",
   "metadata": {},
   "outputs": [],
   "source": [
    "# Get the column containing the users\n",
    "items = rating.item_id\n",
    "# Create a dictionary from users to their number of ratings\n",
    "ratings_count = dict()\n",
    "for item in items:\n",
    "    # If we already have the user, just add 1 to their rating count\n",
    "    if item in ratings_count:\n",
    "        ratings_count[item] += 1\n",
    "    # Otherwise, set their rating count to 1\n",
    "    else:\n",
    "        ratings_count[item] = 1    "
   ]
  },
  {
   "cell_type": "code",
   "execution_count": 14,
   "id": "819e826c-38da-43a9-a70e-0fe7cbba4534",
   "metadata": {},
   "outputs": [],
   "source": [
    "# We want our item to have at least 5 ratings to be considred\n",
    "RATINGS_CUTOFF = 5\n",
    "remove_items = []\n",
    "for item, num_ratings in ratings_count.items():\n",
    "    if num_ratings < RATINGS_CUTOFF:\n",
    "        remove_items.append(item)\n",
    "rating = rating.loc[~rating.item_id.isin(remove_items)]"
   ]
  },
  {
   "cell_type": "code",
   "execution_count": 15,
   "id": "3038f9b6-01e0-46bd-abf0-ddcefc0d5d39",
   "metadata": {},
   "outputs": [
    {
     "data": {
      "text/plain": [
       "(65290, 3)"
      ]
     },
     "execution_count": 15,
     "metadata": {},
     "output_type": "execute_result"
    }
   ],
   "source": [
    "rating.shape"
   ]
  },
  {
   "cell_type": "code",
   "execution_count": 16,
   "id": "9351c770-98a1-431e-9dc1-305c216c483b",
   "metadata": {},
   "outputs": [
    {
     "data": {
      "text/plain": [
       "1540"
      ]
     },
     "execution_count": 16,
     "metadata": {},
     "output_type": "execute_result"
    }
   ],
   "source": [
    "# Finding number of unique users\n",
    "rating['user_id'].nunique()"
   ]
  },
  {
   "cell_type": "code",
   "execution_count": 17,
   "id": "494840d0-d8b4-4eb1-a604-01df7d85b8ce",
   "metadata": {},
   "outputs": [
    {
     "data": {
      "text/plain": [
       "5689"
      ]
     },
     "execution_count": 17,
     "metadata": {},
     "output_type": "execute_result"
    }
   ],
   "source": [
    "# Finding number of unique items\n",
    "rating['item_id'].nunique()"
   ]
  },
  {
   "cell_type": "markdown",
   "id": "dcc868f2-945e-43fe-be10-766d3f2e18a6",
   "metadata": {},
   "source": [
    "- There are **5689 items** in the dataset\n",
    "- As per the number of unique users and items, there is a **possibility of 1540 * 5689 = 8761060\n",
    " ratings** in the dataset. But **we only have 65290 ratings**, i.e. not every user has rated every item in the dataset. And we can build a recommendation system to recommend items to users which they have not interacted with."
   ]
  },
  {
   "cell_type": "code",
   "execution_count": 18,
   "id": "e6672b9e-9b49-4fc6-8570-6c4505105d53",
   "metadata": {},
   "outputs": [
    {
     "data": {
      "text/html": [
       "<div>\n",
       "<style scoped>\n",
       "    .dataframe tbody tr th:only-of-type {\n",
       "        vertical-align: middle;\n",
       "    }\n",
       "\n",
       "    .dataframe tbody tr th {\n",
       "        vertical-align: top;\n",
       "    }\n",
       "\n",
       "    .dataframe thead th {\n",
       "        text-align: right;\n",
       "    }\n",
       "</style>\n",
       "<table border=\"1\" class=\"dataframe\">\n",
       "  <thead>\n",
       "    <tr style=\"text-align: right;\">\n",
       "      <th></th>\n",
       "      <th></th>\n",
       "      <th>rating</th>\n",
       "    </tr>\n",
       "    <tr>\n",
       "      <th>user_id</th>\n",
       "      <th>item_id</th>\n",
       "      <th></th>\n",
       "    </tr>\n",
       "  </thead>\n",
       "  <tbody>\n",
       "    <tr>\n",
       "      <th rowspan=\"5\" valign=\"top\">A100UD67AHFODS</th>\n",
       "      <th>B00004Z5M1</th>\n",
       "      <td>1</td>\n",
       "    </tr>\n",
       "    <tr>\n",
       "      <th>B0001D3K8A</th>\n",
       "      <td>1</td>\n",
       "    </tr>\n",
       "    <tr>\n",
       "      <th>B000233WJ6</th>\n",
       "      <td>1</td>\n",
       "    </tr>\n",
       "    <tr>\n",
       "      <th>B0002KVQBA</th>\n",
       "      <td>1</td>\n",
       "    </tr>\n",
       "    <tr>\n",
       "      <th>B0002SQ2P2</th>\n",
       "      <td>1</td>\n",
       "    </tr>\n",
       "    <tr>\n",
       "      <th>...</th>\n",
       "      <th>...</th>\n",
       "      <td>...</td>\n",
       "    </tr>\n",
       "    <tr>\n",
       "      <th rowspan=\"5\" valign=\"top\">AZOK5STV85FBJ</th>\n",
       "      <th>B005PQTYHE</th>\n",
       "      <td>1</td>\n",
       "    </tr>\n",
       "    <tr>\n",
       "      <th>B006MPRFJQ</th>\n",
       "      <td>1</td>\n",
       "    </tr>\n",
       "    <tr>\n",
       "      <th>B00AANMVNQ</th>\n",
       "      <td>1</td>\n",
       "    </tr>\n",
       "    <tr>\n",
       "      <th>B00B25P27S</th>\n",
       "      <td>1</td>\n",
       "    </tr>\n",
       "    <tr>\n",
       "      <th>B00FB2XNCE</th>\n",
       "      <td>1</td>\n",
       "    </tr>\n",
       "  </tbody>\n",
       "</table>\n",
       "<p>65290 rows × 1 columns</p>\n",
       "</div>"
      ],
      "text/plain": [
       "                           rating\n",
       "user_id        item_id           \n",
       "A100UD67AHFODS B00004Z5M1       1\n",
       "               B0001D3K8A       1\n",
       "               B000233WJ6       1\n",
       "               B0002KVQBA       1\n",
       "               B0002SQ2P2       1\n",
       "...                           ...\n",
       "AZOK5STV85FBJ  B005PQTYHE       1\n",
       "               B006MPRFJQ       1\n",
       "               B00AANMVNQ       1\n",
       "               B00B25P27S       1\n",
       "               B00FB2XNCE       1\n",
       "\n",
       "[65290 rows x 1 columns]"
      ]
     },
     "execution_count": 18,
     "metadata": {},
     "output_type": "execute_result"
    }
   ],
   "source": [
    "rating.groupby(['user_id', 'item_id']).count()"
   ]
  },
  {
   "cell_type": "code",
   "execution_count": 19,
   "id": "8e5e3f86-7fbb-4bcb-a3b2-452a86f9be17",
   "metadata": {},
   "outputs": [
    {
     "data": {
      "text/plain": [
       "65290"
      ]
     },
     "execution_count": 19,
     "metadata": {},
     "output_type": "execute_result"
    }
   ],
   "source": [
    "rating.groupby(['user_id', 'item_id']).count()['rating'].sum()"
   ]
  },
  {
   "cell_type": "markdown",
   "id": "d541d21a-561c-48e0-af77-644f185fa506",
   "metadata": {},
   "source": [
    "The sum is equal to the total number of observations which implies that there is only interaction between a pair of items and a user."
   ]
  },
  {
   "cell_type": "code",
   "execution_count": 20,
   "id": "de495af1-6b2e-4d66-92c5-44c31d8d04fd",
   "metadata": {},
   "outputs": [
    {
     "data": {
      "text/plain": [
       "B0088CJT4U    206\n",
       "B003ES5ZUU    184\n",
       "B000N99BBC    167\n",
       "B007WTAJTO    164\n",
       "B00829TIEK    149\n",
       "             ... \n",
       "B00368CDH6      5\n",
       "B0036AZA6A      5\n",
       "B0036E8V08      5\n",
       "B0036QL1JY      5\n",
       "B00LGQ6HL8      5\n",
       "Name: item_id, Length: 5689, dtype: int64"
      ]
     },
     "execution_count": 20,
     "metadata": {},
     "output_type": "execute_result"
    }
   ],
   "source": [
    "rating['item_id'].value_counts()"
   ]
  },
  {
   "cell_type": "markdown",
   "id": "9b29a40d-290a-4fb5-95d4-29a55f738b19",
   "metadata": {},
   "source": [
    "The Item with ItemId: B0088CJT4U has been interacted by most users which is 206 times.\n",
    "But still, there is a possibility of 1540-206 = 1334 more interactions as we have 1540 unique users in our datasets. For those 1334 remaining users, we can build a recommendation system to predict who is most likely to interact with the item.\n",
    "Also, out of these 1334 interactions, we need to consider the distribution of ratings as well."
   ]
  },
  {
   "cell_type": "code",
   "execution_count": 21,
   "id": "94072c8f-e646-4d40-ba19-e2fb9f6f13fc",
   "metadata": {},
   "outputs": [
    {
     "data": {
      "image/png": "[encoded data removed]",
      "text/plain": [
       "<Figure size 700x700 with 1 Axes>"
      ]
     },
     "metadata": {},
     "output_type": "display_data"
    }
   ],
   "source": [
    "# Plotting distributions of ratings for 74 interactions with itemid B0088CJT4U\n",
    "plt.figure(figsize=(7,7))\n",
    "\n",
    "rating[rating['item_id'] == 'B0088CJT4U']['rating'].value_counts().plot(kind='bar')\n",
    "\n",
    "plt.xlabel('Rating')\n",
    "\n",
    "plt.ylabel('Count')\n",
    "\n",
    "plt.show()"
   ]
  },
  {
   "cell_type": "markdown",
   "id": "edf31713-a084-47fb-8c7b-59743ddc928a",
   "metadata": {},
   "source": [
    "We can see that this item has been liked by the majority of users, as the count of ratings 5 and 4 is higher than the count of other ratings.\n",
    "There can be items with very high interactions but the count of ratings 1 and 2 may be much higher than 4 or 5 which would imply that the item is disliked by the majority of users."
   ]
  },
  {
   "cell_type": "code",
   "execution_count": 22,
   "id": "c6a69e38-2236-49cc-85ac-6a0e71ff87b4",
   "metadata": {},
   "outputs": [
    {
     "data": {
      "text/plain": [
       "ADLVFFE4VBT8      295\n",
       "A3OXHLG6DIBRW8    230\n",
       "A1ODOGXEYECQQ8    217\n",
       "A36K2N527TXXJN    212\n",
       "A25C2M3QF9G7OQ    203\n",
       "                 ... \n",
       "A16CVJUQOB6GIB      2\n",
       "A2BGZ52M908MJY      2\n",
       "A3DL29NLZ7SXXG      1\n",
       "AP2NZAALUQKF5       1\n",
       "A3MV1KKHX51FYT      1\n",
       "Name: user_id, Length: 1540, dtype: int64"
      ]
     },
     "execution_count": 22,
     "metadata": {},
     "output_type": "execute_result"
    }
   ],
   "source": [
    "#Which user interacted the most with any item in the dataset\n",
    "rating['user_id'].value_counts()"
   ]
  },
  {
   "cell_type": "code",
   "execution_count": 23,
   "id": "da872acf-1c9e-42f0-8579-043b1c54ef7f",
   "metadata": {},
   "outputs": [
    {
     "data": {
      "text/plain": [
       "user_id\n",
       "A100UD67AHFODS     53\n",
       "A100WO06OQR8BQ     77\n",
       "A105S56ODHGJEK     58\n",
       "A105TOJ6LTVMBG     32\n",
       "A10AFVU66A79Y1     47\n",
       "                 ... \n",
       "AZBXKUH4AIW3X      22\n",
       "AZCE11PSTCH1L      23\n",
       "AZMY6E8B52L2T     105\n",
       "AZNUHQSHZHSUE      30\n",
       "AZOK5STV85FBJ      14\n",
       "Name: item_id, Length: 1540, dtype: int64"
      ]
     },
     "execution_count": 23,
     "metadata": {},
     "output_type": "execute_result"
    }
   ],
   "source": [
    "# Finding user-item interactions distribution\n",
    "count_interactions = rating.groupby('user_id').count()['item_id']\n",
    "count_interactions"
   ]
  },
  {
   "cell_type": "code",
   "execution_count": 24,
   "id": "59187fa5-eaf5-4136-874f-e0a3d7c069ea",
   "metadata": {},
   "outputs": [
    {
     "data": {
      "image/png": "[encoded data removed]",
      "text/plain": [
       "<Figure size 1500x700 with 1 Axes>"
      ]
     },
     "metadata": {},
     "output_type": "display_data"
    }
   ],
   "source": [
    "# Plotting user-item interactions distribution\n",
    "plt.figure(figsize=(15,7))\n",
    "\n",
    "sns.histplot(count_interactions)\n",
    "\n",
    "plt.xlabel('Number of Interactions by Users')\n",
    "\n",
    "plt.show()"
   ]
  },
  {
   "cell_type": "markdown",
   "id": "df6f309f-672f-4fa1-bde1-4a60bfaeaa9c",
   "metadata": {},
   "source": [
    "The distribution is higher skewed to the right. Only a few users interacted with more than 50 items."
   ]
  },
  {
   "cell_type": "markdown",
   "id": "9c7f280c-17d7-4c4f-bd7f-d35807bbbd77",
   "metadata": {},
   "source": [
    "## **Create Recommendation Model**"
   ]
  },
  {
   "cell_type": "markdown",
   "id": "d39078e8-46df-48cd-8db0-f14d72175687",
   "metadata": {
    "tags": []
   },
   "source": [
    "### **Model 1: Rank Based Recommendation System**"
   ]
  },
  {
   "cell_type": "markdown",
   "id": "fe9ccbed-2d08-4568-892a-b03b52fdd4a7",
   "metadata": {},
   "source": [
    "Rank-based recommendation systems provide recommendations based on the most popular items. This kind of recommendation system is useful when we have cold start problems. Cold start refers to the issue when we get a new user into the system and the machine is not able to recommend items to the new user, as the user did not have any historical interactions in the dataset. In those cases, we can use rank-based recommendation system to recommend items to the new user."
   ]
  },
  {
   "cell_type": "markdown",
   "id": "d1c09c3d-68ce-4cc4-a1fb-1790e567767b",
   "metadata": {},
   "source": [
    "To build the rank-based recommendation system, we take average of all the ratings provided to each item and then rank them based on their average rating."
   ]
  },
  {
   "cell_type": "code",
   "execution_count": 25,
   "id": "f225b0a7-0430-4966-8716-5b72948ef86e",
   "metadata": {},
   "outputs": [],
   "source": [
    "# Calculating average ratings\n",
    "average_rating = rating.groupby('item_id').mean()['rating']\n",
    "\n",
    "# Calculating the count of ratings\n",
    "count_rating = rating.groupby('item_id').count()['rating']\n",
    "\n",
    "# Making a dataframe with the count and average of ratings\n",
    "final_rating = pd.DataFrame({'avg_rating':average_rating, 'rating_count':count_rating})"
   ]
  },
  {
   "cell_type": "code",
   "execution_count": 26,
   "id": "7f02592d-f454-4d33-a1d4-ba3a5fa2c66b",
   "metadata": {},
   "outputs": [
    {
     "data": {
      "text/html": [
       "<div>\n",
       "<style scoped>\n",
       "    .dataframe tbody tr th:only-of-type {\n",
       "        vertical-align: middle;\n",
       "    }\n",
       "\n",
       "    .dataframe tbody tr th {\n",
       "        vertical-align: top;\n",
       "    }\n",
       "\n",
       "    .dataframe thead th {\n",
       "        text-align: right;\n",
       "    }\n",
       "</style>\n",
       "<table border=\"1\" class=\"dataframe\">\n",
       "  <thead>\n",
       "    <tr style=\"text-align: right;\">\n",
       "      <th></th>\n",
       "      <th>avg_rating</th>\n",
       "      <th>rating_count</th>\n",
       "    </tr>\n",
       "    <tr>\n",
       "      <th>item_id</th>\n",
       "      <th></th>\n",
       "      <th></th>\n",
       "    </tr>\n",
       "  </thead>\n",
       "  <tbody>\n",
       "    <tr>\n",
       "      <th>1400501466</th>\n",
       "      <td>3.333333</td>\n",
       "      <td>6</td>\n",
       "    </tr>\n",
       "    <tr>\n",
       "      <th>1400532655</th>\n",
       "      <td>3.833333</td>\n",
       "      <td>6</td>\n",
       "    </tr>\n",
       "    <tr>\n",
       "      <th>1400599997</th>\n",
       "      <td>4.000000</td>\n",
       "      <td>5</td>\n",
       "    </tr>\n",
       "    <tr>\n",
       "      <th>9983891212</th>\n",
       "      <td>4.875000</td>\n",
       "      <td>8</td>\n",
       "    </tr>\n",
       "    <tr>\n",
       "      <th>B00000DM9W</th>\n",
       "      <td>5.000000</td>\n",
       "      <td>5</td>\n",
       "    </tr>\n",
       "  </tbody>\n",
       "</table>\n",
       "</div>"
      ],
      "text/plain": [
       "            avg_rating  rating_count\n",
       "item_id                             \n",
       "1400501466    3.333333             6\n",
       "1400532655    3.833333             6\n",
       "1400599997    4.000000             5\n",
       "9983891212    4.875000             8\n",
       "B00000DM9W    5.000000             5"
      ]
     },
     "execution_count": 26,
     "metadata": {},
     "output_type": "execute_result"
    }
   ],
   "source": [
    "final_rating.head()"
   ]
  },
  {
   "cell_type": "markdown",
   "id": "eccf9f40-dbc8-4689-9f6f-f60e3e04bcae",
   "metadata": {},
   "source": [
    "Now, let's create a function to find the top n items for a recommendation based on the average ratings of items. We can also add a threshold for a minimum number of interactions for a item to be considered for recommendation"
   ]
  },
  {
   "cell_type": "code",
   "execution_count": 27,
   "id": "3e041d59-8bde-4b67-ad2a-b0f440d5fb5a",
   "metadata": {},
   "outputs": [],
   "source": [
    "def top_n_items(data, n, min_interaction=30):\n",
    "    \n",
    "    # Finding items with minimum number of interactions\n",
    "    recommendations = data[data['rating_count'] >= min_interaction]\n",
    "    \n",
    "    # Sorting values w.r.t average rating \n",
    "    recommendations = recommendations.sort_values(by='avg_rating', ascending=False)\n",
    "    \n",
    "    return recommendations.index[:n]"
   ]
  },
  {
   "cell_type": "code",
   "execution_count": 28,
   "id": "31ec5dab-af02-4d1a-8a3c-6d31e3968bff",
   "metadata": {},
   "outputs": [
    {
     "data": {
      "text/plain": [
       "['B001TH7GUU', 'B003ES5ZUU', 'B0019EHU8G', 'B006W8U2MU', 'B000QUUFRW']"
      ]
     },
     "execution_count": 28,
     "metadata": {},
     "output_type": "execute_result"
    }
   ],
   "source": [
    "#Recommending top 5 items with 50 minimum interactions based on popularity\n",
    "list(top_n_items(final_rating, 5, 50))"
   ]
  },
  {
   "cell_type": "markdown",
   "id": "1dc070bf-1e69-41e5-8dca-8fb8a3e88dc4",
   "metadata": {},
   "source": [
    "### **Model 2: Collaborative Filtering Based Recommendation System**"
   ]
  },
  {
   "cell_type": "markdown",
   "id": "093b3803-3bea-49b3-b8cc-ac67dc6680e2",
   "metadata": {},
   "source": [
    "In this type of recommendation system, we do not need any information about the users or items. We only need user item interaction data to build a collaborative recommendation system. For example -\n",
    "\n",
    "- Ratings provided by users. For example - ratings of books on goodread, movie ratings on imdb etc\n",
    "- Likes of users on different facebook posts, likes on youtube videos\n",
    "- Use/buying of a product by users. For example - buying different items on e-commerce sites\n",
    "- Reading of articles by readers on various blogs"
   ]
  },
  {
   "cell_type": "markdown",
   "id": "ea9fd270-7634-49a5-9332-0bcac5f1c8f0",
   "metadata": {},
   "source": [
    "Types of Collaborative Filtering\n",
    "\n",
    "- Similarity/Neighborhood based\n",
    "\n",
    "- - User-User Similarity Based\n",
    "- - Item-Item similarity based"
   ]
  },
  {
   "cell_type": "markdown",
   "id": "443841ae-f68f-4adc-ad8c-a014406611d5",
   "metadata": {
    "tags": []
   },
   "source": [
    "##### **Building a baseline user-user similarity based recommendation system**"
   ]
  },
  {
   "cell_type": "markdown",
   "id": "97abaee3-80cd-4ea8-888d-9320f2a6118c",
   "metadata": {},
   "source": [
    "- Below, we are building similarity-based recommendation systems using cosine similarity and using KNN to find similar users which are the nearest neighbor to the given user.\n",
    "- We will be using a new library, called surprise, to build the remaining models. Let's first import the necessary classes and functions from this library."
   ]
  },
  {
   "cell_type": "code",
   "execution_count": 29,
   "id": "599700dc-1db9-460a-a65b-1f65b3204c28",
   "metadata": {},
   "outputs": [
    {
     "data": {
      "text/html": [
       "<div>\n",
       "<style scoped>\n",
       "    .dataframe tbody tr th:only-of-type {\n",
       "        vertical-align: middle;\n",
       "    }\n",
       "\n",
       "    .dataframe tbody tr th {\n",
       "        vertical-align: top;\n",
       "    }\n",
       "\n",
       "    .dataframe thead th {\n",
       "        text-align: right;\n",
       "    }\n",
       "</style>\n",
       "<table border=\"1\" class=\"dataframe\">\n",
       "  <thead>\n",
       "    <tr style=\"text-align: right;\">\n",
       "      <th></th>\n",
       "      <th>user_id</th>\n",
       "      <th>item_id</th>\n",
       "      <th>rating</th>\n",
       "    </tr>\n",
       "  </thead>\n",
       "  <tbody>\n",
       "    <tr>\n",
       "      <th>1310</th>\n",
       "      <td>1050</td>\n",
       "      <td>0</td>\n",
       "      <td>5.0</td>\n",
       "    </tr>\n",
       "    <tr>\n",
       "      <th>1322</th>\n",
       "      <td>125</td>\n",
       "      <td>0</td>\n",
       "      <td>1.0</td>\n",
       "    </tr>\n",
       "    <tr>\n",
       "      <th>1335</th>\n",
       "      <td>785</td>\n",
       "      <td>0</td>\n",
       "      <td>3.0</td>\n",
       "    </tr>\n",
       "    <tr>\n",
       "      <th>1451</th>\n",
       "      <td>1495</td>\n",
       "      <td>0</td>\n",
       "      <td>5.0</td>\n",
       "    </tr>\n",
       "    <tr>\n",
       "      <th>1456</th>\n",
       "      <td>164</td>\n",
       "      <td>0</td>\n",
       "      <td>1.0</td>\n",
       "    </tr>\n",
       "  </tbody>\n",
       "</table>\n",
       "</div>"
      ],
      "text/plain": [
       "      user_id  item_id  rating\n",
       "1310     1050        0     5.0\n",
       "1322      125        0     1.0\n",
       "1335      785        0     3.0\n",
       "1451     1495        0     5.0\n",
       "1456      164        0     1.0"
      ]
     },
     "execution_count": 29,
     "metadata": {},
     "output_type": "execute_result"
    }
   ],
   "source": [
    "from sklearn.preprocessing import LabelEncoder\n",
    "\n",
    "df=rating[['user_id','item_id']].apply(LabelEncoder().fit_transform)\n",
    "df['rating']=rating['rating']\n",
    "df.head()"
   ]
  },
  {
   "cell_type": "markdown",
   "id": "0fe2b25d-749d-4b1e-b3d7-107447cd3708",
   "metadata": {},
   "source": [
    "Below we are loading the rating dataset, which is a pandas DataFrame, into a different format called surprise.dataset.DatasetAutoFolds, which is required by this library. To do this, we will be using the classes Reader and Dataset. Finally splitting the data into train and test set."
   ]
  },
  {
   "cell_type": "code",
   "execution_count": 30,
   "id": "4a741e28-a239-4db9-9d66-02caae0b7685",
   "metadata": {},
   "outputs": [],
   "source": [
    "# Instantiating Reader scale with expected rating scale\n",
    "reader = Reader(rating_scale=(0, 5))\n",
    "\n",
    "# Loading the rating dataset\n",
    "data = Dataset.load_from_df(df[['user_id', 'item_id', 'rating']], reader)\n",
    "\n",
    "# Splitting the data into train and test dataset\n",
    "trainset, testset = train_test_split(data, test_size=0.7, random_state=42)"
   ]
  },
  {
   "cell_type": "markdown",
   "id": "3f6ce7d5-395d-4d70-9448-37a2f33357e9",
   "metadata": {},
   "source": [
    "- Now, we are ready to build the first baseline similarity-based recommendation system using the cosine similarity.\n",
    "- KNNBasic is an algorithm that is also associated with the surprise package. It is used to find the desired similar items among a given set of items."
   ]
  },
  {
   "cell_type": "code",
   "execution_count": 31,
   "id": "91edb7d5-4d0d-4d3d-8789-ad078c25cc0b",
   "metadata": {},
   "outputs": [
    {
     "name": "stdout",
     "output_type": "stream",
     "text": [
      "RMSE: 1.0552\n"
     ]
    },
    {
     "data": {
      "text/plain": [
       "1.0551559636074466"
      ]
     },
     "execution_count": 31,
     "metadata": {},
     "output_type": "execute_result"
    }
   ],
   "source": [
    "sim_options = {'name': 'cosine',\n",
    "               'user_based': True}\n",
    "\n",
    "algo_knn_user = KNNBasic(sim_options=sim_options,verbose=False)\n",
    "\n",
    "# Train the algorithm on the trainset, and predict ratings for the testset\n",
    "algo_knn_user.fit(trainset)\n",
    "predictions = algo_knn_user.test(testset)\n",
    "\n",
    "# Then compute RMSE\n",
    "accuracy.rmse(predictions)"
   ]
  },
  {
   "cell_type": "markdown",
   "id": "aa59bdd6-b53d-47b3-8668-43324b32f213",
   "metadata": {},
   "source": [
    "As we can see from above, these baseline model has RMSE=1.05 on test set, we will try to improve this number later by using GridSearchCV tuning different hyperparameters of this algorithm"
   ]
  },
  {
   "cell_type": "markdown",
   "id": "9ed0a8c9-3d1b-464a-b525-d88771526d5c",
   "metadata": {},
   "source": [
    "**Predicted rating for an user with userId=0 and for itemId= 3906 and itemId=100**"
   ]
  },
  {
   "cell_type": "code",
   "execution_count": 32,
   "id": "fa161b9a-0670-4e0e-8dc9-8f9d745e8c82",
   "metadata": {},
   "outputs": [
    {
     "name": "stdout",
     "output_type": "stream",
     "text": [
      "user: 0          item: 3906       r_ui = 4.00   est = 4.29   {'was_impossible': True, 'reason': 'Not enough neighbors.'}\n"
     ]
    },
    {
     "data": {
      "text/plain": [
       "Prediction(uid=0, iid=3906, r_ui=4, est=4.291366722826364, details={'was_impossible': True, 'reason': 'Not enough neighbors.'})"
      ]
     },
     "execution_count": 32,
     "metadata": {},
     "output_type": "execute_result"
    }
   ],
   "source": [
    "algo_knn_user.predict(0,3906, r_ui=4, verbose=True)"
   ]
  },
  {
   "cell_type": "markdown",
   "id": "b45af2bf-2538-43bc-8803-cc330e232359",
   "metadata": {},
   "source": [
    "As we can see - the actual rating for this user-item pair is 4 and predicted rating is 4.29 by this similarity based baseline model.\n",
    "\n",
    "In case the user or the movie is very new, we do not have many records to predict results. In such cases, the last value in the prediction will appear as ‘was_impossible’: True."
   ]
  },
  {
   "cell_type": "code",
   "execution_count": 33,
   "id": "d53782c9-a09f-4595-a167-8182c0e13b6a",
   "metadata": {},
   "outputs": [
    {
     "name": "stdout",
     "output_type": "stream",
     "text": [
      "user: 0          item: 100        r_ui = None   est = 4.00   {'actual_k': 1, 'was_impossible': False}\n"
     ]
    },
    {
     "data": {
      "text/plain": [
       "Prediction(uid=0, iid=100, r_ui=None, est=4.0, details={'actual_k': 1, 'was_impossible': False})"
      ]
     },
     "execution_count": 33,
     "metadata": {},
     "output_type": "execute_result"
    }
   ],
   "source": [
    "algo_knn_user.predict(0,100, verbose=True)"
   ]
  },
  {
   "cell_type": "markdown",
   "id": "f3dc0af4-5c34-4aff-970b-891d6db43672",
   "metadata": {},
   "source": [
    "As we can see the estimated rating for this user-item pair is 4.0 based on this similarity based baseline model"
   ]
  },
  {
   "cell_type": "markdown",
   "id": "22cec014-5a15-430d-aee3-ce347b69c75e",
   "metadata": {
    "tags": []
   },
   "source": [
    "##### **Improving similarity based recommendation system by tuning its hyper-parameters**"
   ]
  },
  {
   "cell_type": "markdown",
   "id": "1091813a-f0cc-4e39-8b9e-814c07e5c965",
   "metadata": {},
   "source": [
    "Below we will be tuning hyper-parmeters for the `KNNBasic` algorithms. Let's try to understand different hyperparameters of KNNBasic algorithm: \n",
    "- k (int) – The (max) number of neighbors to take into account for aggregation (see this note). Default is 40.\n",
    "- min_k (int) – The minimum number of neighbors to take into account for aggregation. If there are not enough neighbors, the prediction is set to the global mean of all ratings. Default is 1.\n",
    "- sim_options (dict) – A dictionary of options for the similarity measure. And there are four similarity measures available in surprise\n",
    "\n",
    "   - cosine\n",
    "   - msd (default)\n",
    "   - pearson\n",
    "   - pearson baseline\n",
    "\n",
    "For more details please refer the official documentation https://surprise.readthedocs.io/en/stable/knn_inspired.html"
   ]
  },
  {
   "cell_type": "markdown",
   "id": "8164d75a-8e55-4cc8-b713-7a6dcfdc89de",
   "metadata": {},
   "source": [
    "**Perform hyperparameter tuning for the baseline user based collaborative filtering recommendation system and find the RMSE for tuned user based collaborative filtering recommendation system**"
   ]
  },
  {
   "cell_type": "code",
   "execution_count": 34,
   "id": "5288e801-3396-4873-835f-b26ecfc091cc",
   "metadata": {},
   "outputs": [
    {
     "name": "stdout",
     "output_type": "stream",
     "text": [
      "Computing the msd similarity matrix...\n",
      "Computing the msd similarity matrix...\n",
      "Done computing similarity matrix.\n",
      "Computing the msd similarity matrix...\n",
      "Done computing similarity matrix.\n",
      "Computing the cosine similarity matrix...\n",
      "Done computing similarity matrix.\n",
      "Done computing similarity matrix.\n",
      "Computing the cosine similarity matrix...\n",
      "Computing the cosine similarity matrix...\n",
      "Computing the msd similarity matrix...\n",
      "Done computing similarity matrix.\n",
      "Computing the msd similarity matrix...\n",
      "Done computing similarity matrix.\n",
      "Done computing similarity matrix.\n",
      "Done computing similarity matrix.\n",
      "Computing the msd similarity matrix...\n",
      "Computing the cosine similarity matrix...\n",
      "Done computing similarity matrix.\n",
      "Computing the cosine similarity matrix...\n",
      "Computing the cosine similarity matrix...\n",
      "Done computing similarity matrix.\n",
      "Done computing similarity matrix.\n",
      "Done computing similarity matrix.\n",
      "Computing the msd similarity matrix...\n",
      "Done computing similarity matrix.\n",
      "Computing the msd similarity matrix...\n",
      "Done computing similarity matrix.\n",
      "Computing the msd similarity matrix...\n",
      "Computing the cosine similarity matrix...\n",
      "Done computing similarity matrix.\n",
      "Done computing similarity matrix.\n",
      "Computing the cosine similarity matrix...\n",
      "Computing the cosine similarity matrix...\n",
      "Done computing similarity matrix.\n",
      "Computing the msd similarity matrix...\n",
      "Done computing similarity matrix.\n",
      "Done computing similarity matrix.\n",
      "Computing the msd similarity matrix...\n",
      "Done computing similarity matrix.\n",
      "Computing the msd similarity matrix...\n",
      "Done computing similarity matrix.\n",
      "Computing the cosine similarity matrix...\n",
      "Computing the cosine similarity matrix...\n",
      "Done computing similarity matrix.\n",
      "Computing the cosine similarity matrix...\n",
      "Done computing similarity matrix.\n",
      "Done computing similarity matrix.\n",
      "Computing the msd similarity matrix...\n",
      "Done computing similarity matrix.\n",
      "Computing the msd similarity matrix...\n",
      "Done computing similarity matrix.\n",
      "Computing the msd similarity matrix...\n",
      "Done computing similarity matrix.\n",
      "Computing the cosine similarity matrix...\n",
      "Done computing similarity matrix.\n",
      "Computing the cosine similarity matrix...\n",
      "Done computing similarity matrix.\n",
      "Computing the cosine similarity matrix...\n",
      "Computing the msd similarity matrix...\n",
      "Done computing similarity matrix.\n",
      "Done computing similarity matrix.\n",
      "Computing the msd similarity matrix...\n",
      "Done computing similarity matrix.\n",
      "Computing the msd similarity matrix...\n",
      "Done computing similarity matrix.\n",
      "Computing the cosine similarity matrix...\n",
      "Computing the cosine similarity matrix...\n",
      "Done computing similarity matrix.\n",
      "Done computing similarity matrix.\n",
      "Computing the cosine similarity matrix...\n",
      "Done computing similarity matrix.\n",
      "Computing the msd similarity matrix...\n",
      "Done computing similarity matrix.\n",
      "Computing the msd similarity matrix...\n",
      "Computing the msd similarity matrix...\n",
      "Done computing similarity matrix.\n",
      "Done computing similarity matrix.\n",
      "Computing the cosine similarity matrix...\n",
      "Computing the cosine similarity matrix...\n",
      "Done computing similarity matrix.\n",
      "Done computing similarity matrix.\n",
      "Computing the cosine similarity matrix...\n",
      "Computing the msd similarity matrix...\n",
      "Done computing similarity matrix.\n",
      "Done computing similarity matrix.\n",
      "Computing the msd similarity matrix...\n",
      "Computing the msd similarity matrix...\n",
      "Done computing similarity matrix.\n",
      "Done computing similarity matrix.\n",
      "Computing the cosine similarity matrix...\n",
      "Computing the cosine similarity matrix...\n",
      "Done computing similarity matrix.\n",
      "Done computing similarity matrix.\n",
      "Computing the cosine similarity matrix...\n",
      "Computing the msd similarity matrix...\n",
      "Done computing similarity matrix.\n",
      "Done computing similarity matrix.\n",
      "Computing the msd similarity matrix...\n",
      "Done computing similarity matrix.\n",
      "Computing the msd similarity matrix...\n",
      "Done computing similarity matrix.\n",
      "Computing the cosine similarity matrix...\n",
      "Computing the cosine similarity matrix...\n",
      "Done computing similarity matrix.\n",
      "Done computing similarity matrix.\n",
      "Computing the cosine similarity matrix...\n",
      "Done computing similarity matrix.\n",
      "0.971069688467319\n",
      "{'k': 40, 'min_k': 6, 'sim_options': {'name': 'cosine', 'user_based': True}}\n"
     ]
    }
   ],
   "source": [
    "# Setting up parameter grid to tune the hyperparameters\n",
    "param_grid = {'k': [20, 30, 40], 'min_k': [3, 6, 9],\n",
    "              'sim_options': {'name': ['msd', 'cosine'],\n",
    "                              'user_based': [True]}\n",
    "              }\n",
    "\n",
    "# Performing 3-fold cross validation to tune the hyperparameters\n",
    "gs = GridSearchCV(KNNBasic, param_grid, measures=['rmse', 'mae'], cv=3, n_jobs=-1)\n",
    "\n",
    "# Fitting the data\n",
    "gs.fit(data)\n",
    "\n",
    "# Best RMSE score\n",
    "print(gs.best_score['rmse'])\n",
    "\n",
    "# Combination of parameters that gave the best RMSE score\n",
    "print(gs.best_params['rmse'])"
   ]
  },
  {
   "cell_type": "markdown",
   "id": "7039c736-9708-47c6-bb52-974cbdb1e8c2",
   "metadata": {},
   "source": [
    "Once the grid search is complete, we can get the optimal values for each of those hyperparameters as shown above.\n",
    "\n",
    "Below we are analysing evaluation metrics - RMSE and MAE at each and every split to analyze the impact of each value of hyperparameters"
   ]
  },
  {
   "cell_type": "code",
   "execution_count": 35,
   "id": "6f1a3930-00f7-4340-a82c-872044409049",
   "metadata": {},
   "outputs": [
    {
     "data": {
      "text/html": [
       "<div>\n",
       "<style scoped>\n",
       "    .dataframe tbody tr th:only-of-type {\n",
       "        vertical-align: middle;\n",
       "    }\n",
       "\n",
       "    .dataframe tbody tr th {\n",
       "        vertical-align: top;\n",
       "    }\n",
       "\n",
       "    .dataframe thead th {\n",
       "        text-align: right;\n",
       "    }\n",
       "</style>\n",
       "<table border=\"1\" class=\"dataframe\">\n",
       "  <thead>\n",
       "    <tr style=\"text-align: right;\">\n",
       "      <th></th>\n",
       "      <th>split0_test_rmse</th>\n",
       "      <th>split1_test_rmse</th>\n",
       "      <th>split2_test_rmse</th>\n",
       "      <th>mean_test_rmse</th>\n",
       "      <th>std_test_rmse</th>\n",
       "      <th>rank_test_rmse</th>\n",
       "      <th>split0_test_mae</th>\n",
       "      <th>split1_test_mae</th>\n",
       "      <th>split2_test_mae</th>\n",
       "      <th>mean_test_mae</th>\n",
       "      <th>std_test_mae</th>\n",
       "      <th>rank_test_mae</th>\n",
       "      <th>mean_fit_time</th>\n",
       "      <th>std_fit_time</th>\n",
       "      <th>mean_test_time</th>\n",
       "      <th>std_test_time</th>\n",
       "      <th>params</th>\n",
       "      <th>param_k</th>\n",
       "      <th>param_min_k</th>\n",
       "      <th>param_sim_options</th>\n",
       "    </tr>\n",
       "  </thead>\n",
       "  <tbody>\n",
       "    <tr>\n",
       "      <th>0</th>\n",
       "      <td>0.981736</td>\n",
       "      <td>0.972398</td>\n",
       "      <td>0.977604</td>\n",
       "      <td>0.977246</td>\n",
       "      <td>0.003821</td>\n",
       "      <td>12</td>\n",
       "      <td>0.728890</td>\n",
       "      <td>0.726615</td>\n",
       "      <td>0.727874</td>\n",
       "      <td>0.727793</td>\n",
       "      <td>0.000930</td>\n",
       "      <td>1</td>\n",
       "      <td>0.120975</td>\n",
       "      <td>0.008520</td>\n",
       "      <td>0.649401</td>\n",
       "      <td>0.015176</td>\n",
       "      <td>{'k': 20, 'min_k': 3, 'sim_options': {'name': ...</td>\n",
       "      <td>20</td>\n",
       "      <td>3</td>\n",
       "      <td>{'name': 'msd', 'user_based': True}</td>\n",
       "    </tr>\n",
       "    <tr>\n",
       "      <th>1</th>\n",
       "      <td>0.979329</td>\n",
       "      <td>0.968614</td>\n",
       "      <td>0.975330</td>\n",
       "      <td>0.974425</td>\n",
       "      <td>0.004421</td>\n",
       "      <td>9</td>\n",
       "      <td>0.732088</td>\n",
       "      <td>0.728405</td>\n",
       "      <td>0.731224</td>\n",
       "      <td>0.730572</td>\n",
       "      <td>0.001573</td>\n",
       "      <td>6</td>\n",
       "      <td>0.213074</td>\n",
       "      <td>0.015125</td>\n",
       "      <td>0.616188</td>\n",
       "      <td>0.007053</td>\n",
       "      <td>{'k': 20, 'min_k': 3, 'sim_options': {'name': ...</td>\n",
       "      <td>20</td>\n",
       "      <td>3</td>\n",
       "      <td>{'name': 'cosine', 'user_based': True}</td>\n",
       "    </tr>\n",
       "    <tr>\n",
       "      <th>2</th>\n",
       "      <td>0.976145</td>\n",
       "      <td>0.962871</td>\n",
       "      <td>0.976078</td>\n",
       "      <td>0.971698</td>\n",
       "      <td>0.006242</td>\n",
       "      <td>6</td>\n",
       "      <td>0.748080</td>\n",
       "      <td>0.742259</td>\n",
       "      <td>0.748450</td>\n",
       "      <td>0.746263</td>\n",
       "      <td>0.002835</td>\n",
       "      <td>7</td>\n",
       "      <td>0.117628</td>\n",
       "      <td>0.002285</td>\n",
       "      <td>0.643737</td>\n",
       "      <td>0.032097</td>\n",
       "      <td>{'k': 20, 'min_k': 6, 'sim_options': {'name': ...</td>\n",
       "      <td>20</td>\n",
       "      <td>6</td>\n",
       "      <td>{'name': 'msd', 'user_based': True}</td>\n",
       "    </tr>\n",
       "    <tr>\n",
       "      <th>3</th>\n",
       "      <td>0.975844</td>\n",
       "      <td>0.962933</td>\n",
       "      <td>0.975531</td>\n",
       "      <td>0.971436</td>\n",
       "      <td>0.006014</td>\n",
       "      <td>3</td>\n",
       "      <td>0.750519</td>\n",
       "      <td>0.744628</td>\n",
       "      <td>0.750933</td>\n",
       "      <td>0.748693</td>\n",
       "      <td>0.002880</td>\n",
       "      <td>12</td>\n",
       "      <td>0.219050</td>\n",
       "      <td>0.005816</td>\n",
       "      <td>0.650381</td>\n",
       "      <td>0.006777</td>\n",
       "      <td>{'k': 20, 'min_k': 6, 'sim_options': {'name': ...</td>\n",
       "      <td>20</td>\n",
       "      <td>6</td>\n",
       "      <td>{'name': 'cosine', 'user_based': True}</td>\n",
       "    </tr>\n",
       "    <tr>\n",
       "      <th>4</th>\n",
       "      <td>0.980251</td>\n",
       "      <td>0.969331</td>\n",
       "      <td>0.982705</td>\n",
       "      <td>0.977429</td>\n",
       "      <td>0.005813</td>\n",
       "      <td>15</td>\n",
       "      <td>0.760870</td>\n",
       "      <td>0.755674</td>\n",
       "      <td>0.762680</td>\n",
       "      <td>0.759741</td>\n",
       "      <td>0.002969</td>\n",
       "      <td>13</td>\n",
       "      <td>0.139283</td>\n",
       "      <td>0.032476</td>\n",
       "      <td>0.644868</td>\n",
       "      <td>0.004616</td>\n",
       "      <td>{'k': 20, 'min_k': 9, 'sim_options': {'name': ...</td>\n",
       "      <td>20</td>\n",
       "      <td>9</td>\n",
       "      <td>{'name': 'msd', 'user_based': True}</td>\n",
       "    </tr>\n",
       "  </tbody>\n",
       "</table>\n",
       "</div>"
      ],
      "text/plain": [
       "   split0_test_rmse  split1_test_rmse  split2_test_rmse  mean_test_rmse  \\\n",
       "0          0.981736          0.972398          0.977604        0.977246   \n",
       "1          0.979329          0.968614          0.975330        0.974425   \n",
       "2          0.976145          0.962871          0.976078        0.971698   \n",
       "3          0.975844          0.962933          0.975531        0.971436   \n",
       "4          0.980251          0.969331          0.982705        0.977429   \n",
       "\n",
       "   std_test_rmse  rank_test_rmse  split0_test_mae  split1_test_mae  \\\n",
       "0       0.003821              12         0.728890         0.726615   \n",
       "1       0.004421               9         0.732088         0.728405   \n",
       "2       0.006242               6         0.748080         0.742259   \n",
       "3       0.006014               3         0.750519         0.744628   \n",
       "4       0.005813              15         0.760870         0.755674   \n",
       "\n",
       "   split2_test_mae  mean_test_mae  std_test_mae  rank_test_mae  mean_fit_time  \\\n",
       "0         0.727874       0.727793      0.000930              1       0.120975   \n",
       "1         0.731224       0.730572      0.001573              6       0.213074   \n",
       "2         0.748450       0.746263      0.002835              7       0.117628   \n",
       "3         0.750933       0.748693      0.002880             12       0.219050   \n",
       "4         0.762680       0.759741      0.002969             13       0.139283   \n",
       "\n",
       "   std_fit_time  mean_test_time  std_test_time  \\\n",
       "0      0.008520        0.649401       0.015176   \n",
       "1      0.015125        0.616188       0.007053   \n",
       "2      0.002285        0.643737       0.032097   \n",
       "3      0.005816        0.650381       0.006777   \n",
       "4      0.032476        0.644868       0.004616   \n",
       "\n",
       "                                              params  param_k  param_min_k  \\\n",
       "0  {'k': 20, 'min_k': 3, 'sim_options': {'name': ...       20            3   \n",
       "1  {'k': 20, 'min_k': 3, 'sim_options': {'name': ...       20            3   \n",
       "2  {'k': 20, 'min_k': 6, 'sim_options': {'name': ...       20            6   \n",
       "3  {'k': 20, 'min_k': 6, 'sim_options': {'name': ...       20            6   \n",
       "4  {'k': 20, 'min_k': 9, 'sim_options': {'name': ...       20            9   \n",
       "\n",
       "                        param_sim_options  \n",
       "0     {'name': 'msd', 'user_based': True}  \n",
       "1  {'name': 'cosine', 'user_based': True}  \n",
       "2     {'name': 'msd', 'user_based': True}  \n",
       "3  {'name': 'cosine', 'user_based': True}  \n",
       "4     {'name': 'msd', 'user_based': True}  "
      ]
     },
     "execution_count": 35,
     "metadata": {},
     "output_type": "execute_result"
    }
   ],
   "source": [
    "results_df = pd.DataFrame.from_dict(gs.cv_results)\n",
    "results_df.head()"
   ]
  },
  {
   "cell_type": "code",
   "execution_count": 36,
   "id": "688bb2e5-178e-4706-a2f7-5682cd0ef951",
   "metadata": {},
   "outputs": [
    {
     "name": "stdout",
     "output_type": "stream",
     "text": [
      "Computing the cosine similarity matrix...\n",
      "Done computing similarity matrix.\n",
      "RMSE: 0.9887\n"
     ]
    },
    {
     "data": {
      "text/plain": [
       "0.988698949219415"
      ]
     },
     "execution_count": 36,
     "metadata": {},
     "output_type": "execute_result"
    }
   ],
   "source": [
    "# Using the optimal similarity measure for user-user based collaborative filtering\n",
    "sim_options = {'name': 'cosine',\n",
    "               'user_based': True}\n",
    "\n",
    "# Creating an instance of KNNBasic with optimal hyperparameter values\n",
    "similarity_algo_optimized_user = KNNBasic(sim_options=sim_options, k=40, min_k=6,Verbose=False)\n",
    "\n",
    "# Training the algorithm on the trainset\n",
    "similarity_algo_optimized_user.fit(trainset)\n",
    "\n",
    "# Predicting ratings for the testset\n",
    "predictions = similarity_algo_optimized_user.test(testset)\n",
    "\n",
    "# Computing RMSE on testset\n",
    "accuracy.rmse(predictions)"
   ]
  },
  {
   "cell_type": "markdown",
   "id": "e8848326-20cd-467c-9d92-0f465473d3e4",
   "metadata": {},
   "source": [
    "We can see from above that after tuning hyperparameters, RMSE for testset has reduced to 0.98 from 1.05. We can say that we have been able to improve the model after hyperparameter tuning"
   ]
  },
  {
   "cell_type": "markdown",
   "id": "d64d7a4b-baf4-426a-88f8-bff65ace5976",
   "metadata": {},
   "source": [
    "**Predicted rating for an user with userId=0 and for itemId= 3906 and itemId=100 using tuned user based collaborative filtering**"
   ]
  },
  {
   "cell_type": "code",
   "execution_count": 37,
   "id": "c9c6f17f-1be1-4d51-bcc1-c08441e8b436",
   "metadata": {},
   "outputs": [
    {
     "name": "stdout",
     "output_type": "stream",
     "text": [
      "user: 0          item: 3906       r_ui = 4.00   est = 4.29   {'was_impossible': True, 'reason': 'Not enough neighbors.'}\n"
     ]
    },
    {
     "data": {
      "text/plain": [
       "Prediction(uid=0, iid=3906, r_ui=4, est=4.291366722826364, details={'was_impossible': True, 'reason': 'Not enough neighbors.'})"
      ]
     },
     "execution_count": 37,
     "metadata": {},
     "output_type": "execute_result"
    }
   ],
   "source": [
    "similarity_algo_optimized_user.predict(0,3906, r_ui=4, verbose=True)"
   ]
  },
  {
   "cell_type": "code",
   "execution_count": 38,
   "id": "519bc4d6-7402-488e-acc5-c38a63b73952",
   "metadata": {},
   "outputs": [
    {
     "name": "stdout",
     "output_type": "stream",
     "text": [
      "user: 0          item: 100        r_ui = None   est = 4.29   {'was_impossible': True, 'reason': 'Not enough neighbors.'}\n"
     ]
    },
    {
     "data": {
      "text/plain": [
       "Prediction(uid=0, iid=100, r_ui=None, est=4.291366722826364, details={'was_impossible': True, 'reason': 'Not enough neighbors.'})"
      ]
     },
     "execution_count": 38,
     "metadata": {},
     "output_type": "execute_result"
    }
   ],
   "source": [
    "similarity_algo_optimized_user.predict(0,100, verbose=True)"
   ]
  },
  {
   "cell_type": "markdown",
   "id": "f7df1fd0-fa0e-41a6-a048-5848bee3d8ba",
   "metadata": {},
   "source": [
    "**Identifying similar users to a given user (nearest neighbors)**"
   ]
  },
  {
   "cell_type": "code",
   "execution_count": 39,
   "id": "eb07c021-22e4-4820-85be-170c9f183b61",
   "metadata": {},
   "outputs": [
    {
     "data": {
      "text/plain": [
       "[7, 12, 14, 23, 47]"
      ]
     },
     "execution_count": 39,
     "metadata": {},
     "output_type": "execute_result"
    }
   ],
   "source": [
    "similarity_algo_optimized_user.get_neighbors(0, k=5)"
   ]
  },
  {
   "cell_type": "markdown",
   "id": "2ec8f385-0a6e-4c61-be90-2e92563b5c8c",
   "metadata": {},
   "source": [
    "##### **Implementing the recommendation algorithm based on optimized KNNBasic model**"
   ]
  },
  {
   "cell_type": "markdown",
   "id": "731bb934-b8e3-4127-a89e-d97b705ffaad",
   "metadata": {},
   "source": [
    "Below we will be implementing a function where the input parameters are -\n",
    "\n",
    "- data: a rating dataset\n",
    "- user_id: an user id against which we want the recommendations\n",
    "- top_n: the number of items we want to recommend\n",
    "- algo: the algorithm we want to use to predict the ratings"
   ]
  },
  {
   "cell_type": "code",
   "execution_count": 40,
   "id": "a218622d-e56a-4978-a875-9545b33b0aeb",
   "metadata": {},
   "outputs": [],
   "source": [
    "def get_recommendations(data, user_id, top_n, algo):\n",
    "    \n",
    "    # Creating an empty list to store the recommended item ids\n",
    "    recommendations = []\n",
    "    \n",
    "    # Creating an user item interactions matrix \n",
    "    user_item_interactions_matrix = data.pivot(index='user_id', columns='item_id', values='rating')\n",
    "    \n",
    "    # Extracting those item ids which the user_id has not interacted yet\n",
    "    non_interacted_items = user_item_interactions_matrix.loc[user_id][user_item_interactions_matrix.loc[user_id].isnull()].index.tolist()\n",
    "    \n",
    "    # Looping through each of the item id which user_id has not interacted yet\n",
    "    for item_id in non_interacted_items:\n",
    "        \n",
    "        # Predicting the ratings for those non interacted item ids by this user\n",
    "        est = algo.predict(user_id, item_id).est\n",
    "        \n",
    "        # appending the predicted ratings\n",
    "        recommendations.append((item_id, est))\n",
    "\n",
    "    # sorting the predicted ratings in descending order\n",
    "    recommendations.sort(key=lambda x: x[1], reverse=True)\n",
    "\n",
    "    return recommendations[:top_n] # Returing top n highest predicted rating items for this user"
   ]
  },
  {
   "cell_type": "markdown",
   "id": "b5d849bd-b3d6-4b10-b454-ae9a0dfb972a",
   "metadata": {},
   "source": [
    "**Predicted top 5 items for userId=4 with similarity based recommendation system**"
   ]
  },
  {
   "cell_type": "code",
   "execution_count": 41,
   "id": "bfae5d46-fae9-4a5e-b089-e4e710da8f89",
   "metadata": {},
   "outputs": [],
   "source": [
    "recommendations = get_recommendations(df, 4, 5, similarity_algo_optimized_user)"
   ]
  },
  {
   "cell_type": "code",
   "execution_count": 42,
   "id": "b5c26347-9f0c-4c6b-bdb2-90c6a17519f2",
   "metadata": {},
   "outputs": [
    {
     "data": {
      "text/plain": [
       "[(850, 5),\n",
       " (2857, 4.875),\n",
       " (2277, 4.856530910239044),\n",
       " (2722, 4.833333333333333),\n",
       " (4189, 4.833053684165744)]"
      ]
     },
     "execution_count": 42,
     "metadata": {},
     "output_type": "execute_result"
    }
   ],
   "source": [
    "recommendations"
   ]
  },
  {
   "cell_type": "markdown",
   "id": "f6da2fe8-24b8-4e46-8b0f-038c80a01492",
   "metadata": {},
   "source": [
    "### **Model 3: Item based Collaborative Filtering Recommendation System**"
   ]
  },
  {
   "cell_type": "code",
   "execution_count": 44,
   "id": "3612ed4a-c0f0-4b28-b13e-2a3d071940a1",
   "metadata": {},
   "outputs": [
    {
     "name": "stdout",
     "output_type": "stream",
     "text": [
      "RMSE: 1.0697\n"
     ]
    },
    {
     "data": {
      "text/plain": [
       "1.0697030922594737"
      ]
     },
     "execution_count": 44,
     "metadata": {},
     "output_type": "execute_result"
    }
   ],
   "source": [
    "# Definfing similarity measure\n",
    "sim_options = {'name': 'cosine',\n",
    "               'user_based': False}\n",
    "\n",
    "# Defining Nearest neighbour algorithm\n",
    "algo_knn_item = KNNBasic(sim_options=sim_options,verbose=False)\n",
    "\n",
    "# Train the algorithm on the trainset or fitting the model on train dataset \n",
    "algo_knn_item.fit(trainset)\n",
    "\n",
    "# Predict ratings for the testset\n",
    "predictions = algo_knn_item.test(testset)\n",
    "\n",
    "# Then compute RMSE\n",
    "accuracy.rmse(predictions)"
   ]
  },
  {
   "cell_type": "markdown",
   "id": "5b251b9c-ae98-4a04-bac1-dd2669365202",
   "metadata": {},
   "source": [
    "**predict rating for an user with userId=0 and for itemId=3906 and itemId=100**"
   ]
  },
  {
   "cell_type": "code",
   "execution_count": 45,
   "id": "ff1c0395-9298-4906-a681-8e4798c53da8",
   "metadata": {},
   "outputs": [
    {
     "name": "stdout",
     "output_type": "stream",
     "text": [
      "user: 0          item: 3096       r_ui = 4.00   est = 4.29   {'was_impossible': True, 'reason': 'Not enough neighbors.'}\n"
     ]
    },
    {
     "data": {
      "text/plain": [
       "Prediction(uid=0, iid=3096, r_ui=4, est=4.291366722826364, details={'was_impossible': True, 'reason': 'Not enough neighbors.'})"
      ]
     },
     "execution_count": 45,
     "metadata": {},
     "output_type": "execute_result"
    }
   ],
   "source": [
    "algo_knn_item.predict(0, 3096, r_ui=4, verbose=True)"
   ]
  },
  {
   "cell_type": "markdown",
   "id": "bdc952ed-f1ef-4435-95f6-75536720ae27",
   "metadata": {},
   "source": [
    "**Let's predict the rating for the same userId=0 but for a item which this user has not interacted before i.e. itemId=22607**"
   ]
  },
  {
   "cell_type": "code",
   "execution_count": 46,
   "id": "4cee5aee-0d48-43c6-8ced-b388ea404068",
   "metadata": {},
   "outputs": [
    {
     "name": "stdout",
     "output_type": "stream",
     "text": [
      "user: 0          item: 100        r_ui = None   est = 5.00   {'actual_k': 1, 'was_impossible': False}\n"
     ]
    },
    {
     "data": {
      "text/plain": [
       "Prediction(uid=0, iid=100, r_ui=None, est=5, details={'actual_k': 1, 'was_impossible': False})"
      ]
     },
     "execution_count": 46,
     "metadata": {},
     "output_type": "execute_result"
    }
   ],
   "source": [
    "algo_knn_item.predict(0, 100, verbose=True)"
   ]
  },
  {
   "cell_type": "markdown",
   "id": "12e79e03-f512-4945-bb00-6962dff25930",
   "metadata": {},
   "source": [
    "**Perform hyperparameter tuning for the baseline item based collaborative filtering recommendation system**"
   ]
  },
  {
   "cell_type": "code",
   "execution_count": 48,
   "id": "f7d1ff66-62b7-4831-a161-bbe7b83993c0",
   "metadata": {},
   "outputs": [
    {
     "name": "stdout",
     "output_type": "stream",
     "text": [
      "Computing the msd similarity matrix...\n",
      "Done computing similarity matrix.\n",
      "Computing the msd similarity matrix...\n",
      "Done computing similarity matrix.\n",
      "Computing the msd similarity matrix...\n",
      "Done computing similarity matrix.\n",
      "Computing the cosine similarity matrix...\n",
      "Done computing similarity matrix.\n",
      "Computing the cosine similarity matrix...\n",
      "Done computing similarity matrix.\n",
      "Computing the cosine similarity matrix...\n",
      "Done computing similarity matrix.\n",
      "Computing the msd similarity matrix...\n",
      "Done computing similarity matrix.\n",
      "Computing the msd similarity matrix...\n",
      "Done computing similarity matrix.\n",
      "Computing the msd similarity matrix...\n",
      "Done computing similarity matrix.\n",
      "Computing the cosine similarity matrix...\n",
      "Done computing similarity matrix.\n",
      "Computing the cosine similarity matrix...\n",
      "Done computing similarity matrix.\n",
      "Computing the cosine similarity matrix...\n",
      "Done computing similarity matrix.\n",
      "Computing the msd similarity matrix...\n",
      "Done computing similarity matrix.\n",
      "Computing the msd similarity matrix...\n",
      "Done computing similarity matrix.\n",
      "Computing the msd similarity matrix...\n",
      "Done computing similarity matrix.\n",
      "Computing the cosine similarity matrix...\n",
      "Done computing similarity matrix.\n",
      "Computing the cosine similarity matrix...\n",
      "Done computing similarity matrix.\n",
      "Computing the cosine similarity matrix...\n",
      "Done computing similarity matrix.\n",
      "Computing the msd similarity matrix...\n",
      "Done computing similarity matrix.\n",
      "Computing the msd similarity matrix...\n",
      "Done computing similarity matrix.\n",
      "Computing the msd similarity matrix...\n",
      "Done computing similarity matrix.\n",
      "Computing the cosine similarity matrix...\n",
      "Done computing similarity matrix.\n",
      "Computing the cosine similarity matrix...\n",
      "Done computing similarity matrix.\n",
      "Computing the cosine similarity matrix...\n",
      "Done computing similarity matrix.\n",
      "Computing the msd similarity matrix...\n",
      "Done computing similarity matrix.\n",
      "Computing the msd similarity matrix...\n",
      "Done computing similarity matrix.\n",
      "Computing the msd similarity matrix...\n",
      "Done computing similarity matrix.\n",
      "Computing the cosine similarity matrix...\n",
      "Done computing similarity matrix.\n",
      "Computing the cosine similarity matrix...\n",
      "Done computing similarity matrix.\n",
      "Computing the cosine similarity matrix...\n",
      "Done computing similarity matrix.\n",
      "Computing the msd similarity matrix...\n",
      "Done computing similarity matrix.\n",
      "Computing the msd similarity matrix...\n",
      "Done computing similarity matrix.\n",
      "Computing the msd similarity matrix...\n",
      "Done computing similarity matrix.\n",
      "Computing the cosine similarity matrix...\n",
      "Done computing similarity matrix.\n",
      "Computing the cosine similarity matrix...\n",
      "Done computing similarity matrix.\n",
      "Computing the cosine similarity matrix...\n",
      "Done computing similarity matrix.\n",
      "Computing the msd similarity matrix...\n",
      "Done computing similarity matrix.\n",
      "Computing the msd similarity matrix...\n",
      "Done computing similarity matrix.\n",
      "Computing the msd similarity matrix...\n",
      "Done computing similarity matrix.\n",
      "Computing the cosine similarity matrix...\n",
      "Done computing similarity matrix.\n",
      "Computing the cosine similarity matrix...\n",
      "Done computing similarity matrix.\n",
      "Computing the cosine similarity matrix...\n",
      "Done computing similarity matrix.\n",
      "Computing the msd similarity matrix...\n",
      "Done computing similarity matrix.\n",
      "Computing the msd similarity matrix...\n",
      "Done computing similarity matrix.\n",
      "Computing the msd similarity matrix...\n",
      "Done computing similarity matrix.\n",
      "Computing the cosine similarity matrix...\n",
      "Done computing similarity matrix.\n",
      "Computing the cosine similarity matrix...\n",
      "Done computing similarity matrix.\n",
      "Computing the cosine similarity matrix...\n",
      "Done computing similarity matrix.\n",
      "Computing the msd similarity matrix...\n",
      "Done computing similarity matrix.\n",
      "Computing the msd similarity matrix...\n",
      "Done computing similarity matrix.\n",
      "Computing the msd similarity matrix...\n",
      "Done computing similarity matrix.\n",
      "Computing the cosine similarity matrix...\n",
      "Done computing similarity matrix.\n",
      "Computing the cosine similarity matrix...\n",
      "Done computing similarity matrix.\n",
      "Computing the cosine similarity matrix...\n",
      "Done computing similarity matrix.\n",
      "0.9746205944720322\n",
      "{'k': 20, 'min_k': 6, 'sim_options': {'name': 'msd', 'user_based': False}}\n"
     ]
    }
   ],
   "source": [
    "# Setting up parameter grid to tune the hyperparameters\n",
    "param_grid = {'k': [20, 30,40], 'min_k': [3,6,9],\n",
    "              'sim_options': {'name': ['msd', 'cosine'],\n",
    "                              'user_based': [False]}\n",
    "              }\n",
    "\n",
    "# Performing 3-fold cross validation to tune the hyperparameters\n",
    "grid_obj = GridSearchCV(KNNBasic, param_grid, measures=['rmse', 'mae'], cv=3)\n",
    "\n",
    "# Fitting the data\n",
    "grid_obj.fit(data)\n",
    "\n",
    "# Best RMSE score\n",
    "print(grid_obj.best_score['rmse'])\n",
    "\n",
    "# Combination of parameters that gave the best RMSE score\n",
    "print(grid_obj.best_params['rmse'])"
   ]
  },
  {
   "cell_type": "markdown",
   "id": "b8a2282f-a75b-4fb8-8569-9a1570e2cc6b",
   "metadata": {},
   "source": [
    "Once the grid search is complete, we can get the optimal values for each of those hyperparameters as shown above"
   ]
  },
  {
   "cell_type": "markdown",
   "id": "122cb025-1774-47c9-86ea-b15fc84dc496",
   "metadata": {},
   "source": [
    "Below we are analysing evaluation metrics - RMSE and MAE at each and every split to analyze the impact of each value of hyperparameters"
   ]
  },
  {
   "cell_type": "code",
   "execution_count": 49,
   "id": "6de58d36-c7c3-42f2-aa6d-54fd62550b22",
   "metadata": {},
   "outputs": [
    {
     "data": {
      "text/html": [
       "<div>\n",
       "<style scoped>\n",
       "    .dataframe tbody tr th:only-of-type {\n",
       "        vertical-align: middle;\n",
       "    }\n",
       "\n",
       "    .dataframe tbody tr th {\n",
       "        vertical-align: top;\n",
       "    }\n",
       "\n",
       "    .dataframe thead th {\n",
       "        text-align: right;\n",
       "    }\n",
       "</style>\n",
       "<table border=\"1\" class=\"dataframe\">\n",
       "  <thead>\n",
       "    <tr style=\"text-align: right;\">\n",
       "      <th></th>\n",
       "      <th>split0_test_rmse</th>\n",
       "      <th>split1_test_rmse</th>\n",
       "      <th>split2_test_rmse</th>\n",
       "      <th>mean_test_rmse</th>\n",
       "      <th>std_test_rmse</th>\n",
       "      <th>rank_test_rmse</th>\n",
       "      <th>split0_test_mae</th>\n",
       "      <th>split1_test_mae</th>\n",
       "      <th>split2_test_mae</th>\n",
       "      <th>mean_test_mae</th>\n",
       "      <th>std_test_mae</th>\n",
       "      <th>rank_test_mae</th>\n",
       "      <th>mean_fit_time</th>\n",
       "      <th>std_fit_time</th>\n",
       "      <th>mean_test_time</th>\n",
       "      <th>std_test_time</th>\n",
       "      <th>params</th>\n",
       "      <th>param_k</th>\n",
       "      <th>param_min_k</th>\n",
       "      <th>param_sim_options</th>\n",
       "    </tr>\n",
       "  </thead>\n",
       "  <tbody>\n",
       "    <tr>\n",
       "      <th>0</th>\n",
       "      <td>0.990795</td>\n",
       "      <td>0.985123</td>\n",
       "      <td>0.988492</td>\n",
       "      <td>0.988137</td>\n",
       "      <td>0.002329</td>\n",
       "      <td>16</td>\n",
       "      <td>0.728116</td>\n",
       "      <td>0.727181</td>\n",
       "      <td>0.728897</td>\n",
       "      <td>0.728065</td>\n",
       "      <td>0.000701</td>\n",
       "      <td>1</td>\n",
       "      <td>0.848038</td>\n",
       "      <td>0.009807</td>\n",
       "      <td>0.985164</td>\n",
       "      <td>0.105018</td>\n",
       "      <td>{'k': 20, 'min_k': 3, 'sim_options': {'name': ...</td>\n",
       "      <td>20</td>\n",
       "      <td>3</td>\n",
       "      <td>{'name': 'msd', 'user_based': False}</td>\n",
       "    </tr>\n",
       "    <tr>\n",
       "      <th>1</th>\n",
       "      <td>0.989574</td>\n",
       "      <td>0.985717</td>\n",
       "      <td>0.988979</td>\n",
       "      <td>0.988090</td>\n",
       "      <td>0.001696</td>\n",
       "      <td>15</td>\n",
       "      <td>0.734191</td>\n",
       "      <td>0.733948</td>\n",
       "      <td>0.735739</td>\n",
       "      <td>0.734626</td>\n",
       "      <td>0.000793</td>\n",
       "      <td>6</td>\n",
       "      <td>1.462352</td>\n",
       "      <td>0.003727</td>\n",
       "      <td>0.940547</td>\n",
       "      <td>0.097700</td>\n",
       "      <td>{'k': 20, 'min_k': 3, 'sim_options': {'name': ...</td>\n",
       "      <td>20</td>\n",
       "      <td>3</td>\n",
       "      <td>{'name': 'cosine', 'user_based': False}</td>\n",
       "    </tr>\n",
       "    <tr>\n",
       "      <th>2</th>\n",
       "      <td>0.974790</td>\n",
       "      <td>0.973943</td>\n",
       "      <td>0.975129</td>\n",
       "      <td>0.974621</td>\n",
       "      <td>0.000499</td>\n",
       "      <td>1</td>\n",
       "      <td>0.742498</td>\n",
       "      <td>0.741088</td>\n",
       "      <td>0.742276</td>\n",
       "      <td>0.741954</td>\n",
       "      <td>0.000619</td>\n",
       "      <td>7</td>\n",
       "      <td>0.841582</td>\n",
       "      <td>0.005539</td>\n",
       "      <td>0.870169</td>\n",
       "      <td>0.006635</td>\n",
       "      <td>{'k': 20, 'min_k': 6, 'sim_options': {'name': ...</td>\n",
       "      <td>20</td>\n",
       "      <td>6</td>\n",
       "      <td>{'name': 'msd', 'user_based': False}</td>\n",
       "    </tr>\n",
       "    <tr>\n",
       "      <th>3</th>\n",
       "      <td>0.976661</td>\n",
       "      <td>0.976927</td>\n",
       "      <td>0.977660</td>\n",
       "      <td>0.977083</td>\n",
       "      <td>0.000422</td>\n",
       "      <td>9</td>\n",
       "      <td>0.748630</td>\n",
       "      <td>0.747157</td>\n",
       "      <td>0.748446</td>\n",
       "      <td>0.748078</td>\n",
       "      <td>0.000656</td>\n",
       "      <td>12</td>\n",
       "      <td>1.457124</td>\n",
       "      <td>0.011687</td>\n",
       "      <td>0.995588</td>\n",
       "      <td>0.097104</td>\n",
       "      <td>{'k': 20, 'min_k': 6, 'sim_options': {'name': ...</td>\n",
       "      <td>20</td>\n",
       "      <td>6</td>\n",
       "      <td>{'name': 'cosine', 'user_based': False}</td>\n",
       "    </tr>\n",
       "    <tr>\n",
       "      <th>4</th>\n",
       "      <td>0.976448</td>\n",
       "      <td>0.974818</td>\n",
       "      <td>0.976395</td>\n",
       "      <td>0.975887</td>\n",
       "      <td>0.000756</td>\n",
       "      <td>4</td>\n",
       "      <td>0.754054</td>\n",
       "      <td>0.752416</td>\n",
       "      <td>0.754429</td>\n",
       "      <td>0.753633</td>\n",
       "      <td>0.000874</td>\n",
       "      <td>13</td>\n",
       "      <td>0.844258</td>\n",
       "      <td>0.004357</td>\n",
       "      <td>0.960027</td>\n",
       "      <td>0.096591</td>\n",
       "      <td>{'k': 20, 'min_k': 9, 'sim_options': {'name': ...</td>\n",
       "      <td>20</td>\n",
       "      <td>9</td>\n",
       "      <td>{'name': 'msd', 'user_based': False}</td>\n",
       "    </tr>\n",
       "  </tbody>\n",
       "</table>\n",
       "</div>"
      ],
      "text/plain": [
       "   split0_test_rmse  split1_test_rmse  split2_test_rmse  mean_test_rmse  \\\n",
       "0          0.990795          0.985123          0.988492        0.988137   \n",
       "1          0.989574          0.985717          0.988979        0.988090   \n",
       "2          0.974790          0.973943          0.975129        0.974621   \n",
       "3          0.976661          0.976927          0.977660        0.977083   \n",
       "4          0.976448          0.974818          0.976395        0.975887   \n",
       "\n",
       "   std_test_rmse  rank_test_rmse  split0_test_mae  split1_test_mae  \\\n",
       "0       0.002329              16         0.728116         0.727181   \n",
       "1       0.001696              15         0.734191         0.733948   \n",
       "2       0.000499               1         0.742498         0.741088   \n",
       "3       0.000422               9         0.748630         0.747157   \n",
       "4       0.000756               4         0.754054         0.752416   \n",
       "\n",
       "   split2_test_mae  mean_test_mae  std_test_mae  rank_test_mae  mean_fit_time  \\\n",
       "0         0.728897       0.728065      0.000701              1       0.848038   \n",
       "1         0.735739       0.734626      0.000793              6       1.462352   \n",
       "2         0.742276       0.741954      0.000619              7       0.841582   \n",
       "3         0.748446       0.748078      0.000656             12       1.457124   \n",
       "4         0.754429       0.753633      0.000874             13       0.844258   \n",
       "\n",
       "   std_fit_time  mean_test_time  std_test_time  \\\n",
       "0      0.009807        0.985164       0.105018   \n",
       "1      0.003727        0.940547       0.097700   \n",
       "2      0.005539        0.870169       0.006635   \n",
       "3      0.011687        0.995588       0.097104   \n",
       "4      0.004357        0.960027       0.096591   \n",
       "\n",
       "                                              params  param_k  param_min_k  \\\n",
       "0  {'k': 20, 'min_k': 3, 'sim_options': {'name': ...       20            3   \n",
       "1  {'k': 20, 'min_k': 3, 'sim_options': {'name': ...       20            3   \n",
       "2  {'k': 20, 'min_k': 6, 'sim_options': {'name': ...       20            6   \n",
       "3  {'k': 20, 'min_k': 6, 'sim_options': {'name': ...       20            6   \n",
       "4  {'k': 20, 'min_k': 9, 'sim_options': {'name': ...       20            9   \n",
       "\n",
       "                         param_sim_options  \n",
       "0     {'name': 'msd', 'user_based': False}  \n",
       "1  {'name': 'cosine', 'user_based': False}  \n",
       "2     {'name': 'msd', 'user_based': False}  \n",
       "3  {'name': 'cosine', 'user_based': False}  \n",
       "4     {'name': 'msd', 'user_based': False}  "
      ]
     },
     "execution_count": 49,
     "metadata": {},
     "output_type": "execute_result"
    }
   ],
   "source": [
    "results_df = pd.DataFrame.from_dict(grid_obj.cv_results)\n",
    "results_df.head()"
   ]
  },
  {
   "cell_type": "markdown",
   "id": "6852f843-d80e-4c14-9a42-5563c7402ad5",
   "metadata": {},
   "source": [
    "Now let's build the final model by using tuned values of the hyperparameters which we received by using grid search cross-validation."
   ]
  },
  {
   "cell_type": "code",
   "execution_count": 50,
   "id": "02e74150-aac9-4992-887a-96cc1111deeb",
   "metadata": {},
   "outputs": [
    {
     "name": "stdout",
     "output_type": "stream",
     "text": [
      "RMSE: 0.9896\n"
     ]
    },
    {
     "data": {
      "text/plain": [
       "0.9895877571156905"
      ]
     },
     "execution_count": 50,
     "metadata": {},
     "output_type": "execute_result"
    }
   ],
   "source": [
    "# Creating an instance of KNNBasic with optimal hyperparameter values\n",
    "similarity_algo_optimized_item = KNNBasic(sim_options={'name': 'msd', 'user_based': False}, k=30, min_k=6,verbose=False)\n",
    "\n",
    "# Training the algorithm on the trainset\n",
    "similarity_algo_optimized_item.fit(trainset)\n",
    "\n",
    "# Predicting ratings for the testset\n",
    "predictions = similarity_algo_optimized_item.test(testset)\n",
    "\n",
    "# Computing RMSE on testset\n",
    "accuracy.rmse(predictions)"
   ]
  },
  {
   "cell_type": "markdown",
   "id": "60a1128f-8f1b-4631-9961-52c5823adfce",
   "metadata": {},
   "source": [
    "**Predicted rating for an item with userId=0 and for itemId= 3906 and itemId=100 using tuned item based collaborative filtering**"
   ]
  },
  {
   "cell_type": "markdown",
   "id": "49fd36ad-9540-4c21-b99a-9a9b557ae755",
   "metadata": {},
   "source": [
    "**predict rating for an user with userId=0 and for itemId=3906**"
   ]
  },
  {
   "cell_type": "code",
   "execution_count": 52,
   "id": "bda715d2-2124-41e9-a15c-5c8a4d03da87",
   "metadata": {},
   "outputs": [
    {
     "name": "stdout",
     "output_type": "stream",
     "text": [
      "user: 0          item: 3906       r_ui = 4.00   est = 4.29   {'was_impossible': True, 'reason': 'Not enough neighbors.'}\n"
     ]
    },
    {
     "data": {
      "text/plain": [
       "Prediction(uid=0, iid=3906, r_ui=4, est=4.291366722826364, details={'was_impossible': True, 'reason': 'Not enough neighbors.'})"
      ]
     },
     "execution_count": 52,
     "metadata": {},
     "output_type": "execute_result"
    }
   ],
   "source": [
    "similarity_algo_optimized_item.predict(0, 3906, r_ui=4, verbose=True)"
   ]
  },
  {
   "cell_type": "markdown",
   "id": "f75baa80-ba00-4284-b398-fd64cf3605b3",
   "metadata": {},
   "source": [
    "**redict the rating for the same userId=0 but for a item which this user has not interacted before i.e. itemId=100**"
   ]
  },
  {
   "cell_type": "code",
   "execution_count": 53,
   "id": "ef042bc9-cecd-4d1b-88e8-1c8cfa3360f6",
   "metadata": {},
   "outputs": [
    {
     "name": "stdout",
     "output_type": "stream",
     "text": [
      "user: 0          item: 100        r_ui = None   est = 4.29   {'was_impossible': True, 'reason': 'Not enough neighbors.'}\n"
     ]
    },
    {
     "data": {
      "text/plain": [
       "Prediction(uid=0, iid=100, r_ui=None, est=4.291366722826364, details={'was_impossible': True, 'reason': 'Not enough neighbors.'})"
      ]
     },
     "execution_count": 53,
     "metadata": {},
     "output_type": "execute_result"
    }
   ],
   "source": [
    "similarity_algo_optimized_item.predict(0,100, verbose=True)"
   ]
  },
  {
   "cell_type": "markdown",
   "id": "67f94f89-fa7d-4b78-9621-345012481fa1",
   "metadata": {},
   "source": [
    "#### **Identifying similar users to a given user (nearest neighbors)**"
   ]
  },
  {
   "cell_type": "markdown",
   "id": "899a588b-cf5e-402e-88cc-a77b4646cf1d",
   "metadata": {},
   "source": [
    "find out the similar users to a given user or its nearest neighbors based on this KNNBasic algorithm. Below we are finding 5 most similar user to the userId=4 based on the msd distance metric"
   ]
  },
  {
   "cell_type": "code",
   "execution_count": 54,
   "id": "872f4c48-05df-48bc-8d49-174cedea437c",
   "metadata": {},
   "outputs": [
    {
     "data": {
      "text/plain": [
       "[132, 213, 473, 1636, 393]"
      ]
     },
     "execution_count": 54,
     "metadata": {},
     "output_type": "execute_result"
    }
   ],
   "source": [
    "similarity_algo_optimized_item.get_neighbors(4, k=5)"
   ]
  },
  {
   "cell_type": "markdown",
   "id": "9c91527e-4c66-4665-bb77-9e60262a3438",
   "metadata": {},
   "source": [
    "Predicted top 5 items for userId=4 with similarity based recommendation system"
   ]
  },
  {
   "cell_type": "code",
   "execution_count": 55,
   "id": "ba7bdbd5-18df-4b79-a616-ab8ad69d6279",
   "metadata": {},
   "outputs": [],
   "source": [
    "recommendations = get_recommendations(df, 4, 5, similarity_algo_optimized_item)"
   ]
  },
  {
   "cell_type": "code",
   "execution_count": 56,
   "id": "3fe7111a-bb11-40ce-b921-f7810f910c26",
   "metadata": {},
   "outputs": [
    {
     "data": {
      "text/plain": [
       "[(5155, 4.846153846153846),\n",
       " (1997, 4.701088473346358),\n",
       " (3975, 4.692622950819672),\n",
       " (4253, 4.612068965517241),\n",
       " (5489, 4.536817102137767)]"
      ]
     },
     "execution_count": 56,
     "metadata": {},
     "output_type": "execute_result"
    }
   ],
   "source": [
    "recommendations"
   ]
  },
  {
   "cell_type": "markdown",
   "id": "840abb62-aa8a-45ee-ac8c-d3fb610b8d19",
   "metadata": {},
   "source": [
    "### **Model 4: Based Collaborative Filtering - Matrix Factorization using SVD**"
   ]
  },
  {
   "cell_type": "markdown",
   "id": "135136ad-97ca-4501-ba44-bd18119b0423",
   "metadata": {},
   "source": [
    "Model-based Collaborative Filtering is a personalized recommendation system, the recommendations are based on the past behavior of the user and it is not dependent on any additional information. We use latent features to find recommendations for each user.\n",
    "\n",
    "Latent Features: The features that are not present in the empirical data but can be inferred from the data. For example:\n",
    "\n",
    "Singular Value Decomposition (SVD)\n",
    "SVD is used to compute the latent features from the user-item matrix. But SVD does not work when we miss values in the user-item matrix."
   ]
  },
  {
   "cell_type": "markdown",
   "id": "77010af2-8d0d-41f6-93ff-c6e6c92d2296",
   "metadata": {},
   "source": [
    "**Building a baseline matrix factorization recommendation system**"
   ]
  },
  {
   "cell_type": "code",
   "execution_count": 59,
   "id": "817bc3a1-4e27-41c9-8082-980706bb50ba",
   "metadata": {},
   "outputs": [
    {
     "name": "stdout",
     "output_type": "stream",
     "text": [
      "RMSE: 0.9309\n"
     ]
    },
    {
     "data": {
      "text/plain": [
       "0.9309444874408721"
      ]
     },
     "execution_count": 59,
     "metadata": {},
     "output_type": "execute_result"
    }
   ],
   "source": [
    "# Using SVD matrix factorization\n",
    "algo_svd = SVD()\n",
    "\n",
    "# Training the algorithm on the trainset\n",
    "algo_svd.fit(trainset)\n",
    "\n",
    "# Predicting ratings for the testset\n",
    "predictions = algo_svd.test(testset)\n",
    "\n",
    "# Computing RMSE on the testset\n",
    "accuracy.rmse(predictions)"
   ]
  },
  {
   "cell_type": "markdown",
   "id": "ec47e3c1-461f-44cb-87be-f70167e6d13f",
   "metadata": {},
   "source": [
    "We can that the baseline RMSE for matrix factorization model on testset (which is 0.93) is lower as compared to the RMSE for baseline similarity based recommendation system (which is 1.06) and it is even lesser than the RMSE for optimized similarity based recommendation system (which is 0.99)"
   ]
  },
  {
   "cell_type": "markdown",
   "id": "15f97ba6-c1d5-472d-a389-8e4921514592",
   "metadata": {},
   "source": [
    "**predict rating for an user with userId=0 and for itemId=3906 as shown below**"
   ]
  },
  {
   "cell_type": "code",
   "execution_count": 60,
   "id": "5504ec34-d19e-4f62-b806-bb44f40a091e",
   "metadata": {},
   "outputs": [
    {
     "name": "stdout",
     "output_type": "stream",
     "text": [
      "user: 0          item: 3906       r_ui = 4.00   est = 4.52   {'was_impossible': False}\n"
     ]
    },
    {
     "data": {
      "text/plain": [
       "Prediction(uid=0, iid=3906, r_ui=4, est=4.520742478323958, details={'was_impossible': False})"
      ]
     },
     "execution_count": 60,
     "metadata": {},
     "output_type": "execute_result"
    }
   ],
   "source": [
    "algo_svd.predict(0,3906, r_ui=4, verbose=True)"
   ]
  },
  {
   "cell_type": "markdown",
   "id": "fa0ff26e-33f8-404c-b348-2b957b802c6d",
   "metadata": {},
   "source": [
    "**predicting rating for the same userId=0 but for a item which this user has not interacted before i.e. userId=100**"
   ]
  },
  {
   "cell_type": "code",
   "execution_count": 62,
   "id": "c44127a4-0df8-48e6-934d-6430d64a93a5",
   "metadata": {},
   "outputs": [
    {
     "name": "stdout",
     "output_type": "stream",
     "text": [
      "user: 0          item: 100        r_ui = None   est = 4.42   {'was_impossible': False}\n"
     ]
    },
    {
     "data": {
      "text/plain": [
       "Prediction(uid=0, iid=100, r_ui=None, est=4.4189668113469525, details={'was_impossible': False})"
      ]
     },
     "execution_count": 62,
     "metadata": {},
     "output_type": "execute_result"
    }
   ],
   "source": [
    "algo_svd.predict(0,100, verbose=True)"
   ]
  },
  {
   "cell_type": "markdown",
   "id": "6493a04c-1b71-4e9b-a2df-697d29976180",
   "metadata": {},
   "source": [
    "***Improving matrix factorization based recommendation system by tuning its hyper-parameters***"
   ]
  },
  {
   "cell_type": "markdown",
   "id": "134faf03-805a-4f5f-b596-04d631989b19",
   "metadata": {},
   "source": [
    "In SVD, rating is predicted as - "
   ]
  },
  {
   "cell_type": "markdown",
   "id": "4a77c896-37ab-4ec6-87c0-8e7712d98f67",
   "metadata": {},
   "source": [
    "$$\\hat{r}_{u i}=\\mu+b_{u}+b_{i}+q_{i}^{T} p_{u}$$"
   ]
  },
  {
   "cell_type": "markdown",
   "id": "85dc3101-6f0f-4cbd-9e79-3519c7da0afd",
   "metadata": {},
   "source": [
    "If user $u$ is unknown, then the bias $b_{u}$ and the factors $p_{u}$ are assumed to be zero. The same applies for item $i$ with $b_{i}$ and $q_{i}$."
   ]
  },
  {
   "cell_type": "markdown",
   "id": "3945be1e-86df-4077-8994-80de89f92933",
   "metadata": {},
   "source": [
    "To estimate all the unknown, we minimize the following regularized squared error:"
   ]
  },
  {
   "cell_type": "markdown",
   "id": "93efa7b4-df0e-4f9d-b741-e196b6a62ec2",
   "metadata": {},
   "source": [
    "$$\\sum_{r_{u i} \\in R_{\\text {train }}}\\left(r_{u i}-\\hat{r}_{u i}\\right)^{2}+\\lambda\\left(b_{i}^{2}+b_{u}^{2}+\\left\\|q_{i}\\right\\|^{2}+\\left\\|p_{u}\\right\\|^{2}\\right)$$"
   ]
  },
  {
   "cell_type": "markdown",
   "id": "60d569a4-8b36-4c79-9543-a259a1b46ea2",
   "metadata": {},
   "source": [
    "The minimization is performed by a very straightforward **stochastic gradient descent**:"
   ]
  },
  {
   "cell_type": "markdown",
   "id": "0c3b1037-c812-4973-9042-6c24a904f3e5",
   "metadata": {},
   "source": [
    "$$\\begin{aligned} b_{u} & \\leftarrow b_{u}+\\gamma\\left(e_{u i}-\\lambda b_{u}\\right) \\\\ b_{i} & \\leftarrow b_{i}+\\gamma\\left(e_{u i}-\\lambda b_{i}\\right) \\\\ p_{u} & \\leftarrow p_{u}+\\gamma\\left(e_{u i} \\cdot q_{i}-\\lambda p_{u}\\right) \\\\ q_{i} & \\leftarrow q_{i}+\\gamma\\left(e_{u i} \\cdot p_{u}-\\lambda q_{i}\\right) \\end{aligned}$$"
   ]
  },
  {
   "cell_type": "markdown",
   "id": "77bc8a4a-5abc-4466-b702-26691f83813b",
   "metadata": {},
   "source": [
    "There are many hyperparameters to tune in this algorithm, you can find a full list of hyperparameters [here](https://surprise.readthedocs.io/en/stable/matrix_factorization.html#surprise.prediction_algorithms.matrix_factorization.SVD)"
   ]
  },
  {
   "cell_type": "markdown",
   "id": "b00dda6d-41e8-44f5-84e6-ef2d921980be",
   "metadata": {},
   "source": [
    "Below we will be tuning only three hyperparameters -\n",
    "- **n_epochs**: The number of iteration of the SGD algorithm\n",
    "- **lr_all**: The learning rate for all parameters\n",
    "- **reg_all**: The regularization term for all parameters"
   ]
  },
  {
   "cell_type": "markdown",
   "id": "b611b145-961c-4b8e-a7a9-5e6ca5d64469",
   "metadata": {},
   "source": [
    "**Perform hyperparameter tuning for the baseline SVD based collaborative filtering recommendation system and find the RMSE for tuned SVD based collaborative filtering recommendation system**"
   ]
  },
  {
   "cell_type": "code",
   "execution_count": 65,
   "id": "59af412f-aaba-4a31-aef4-491fb78b4a2a",
   "metadata": {},
   "outputs": [
    {
     "name": "stdout",
     "output_type": "stream",
     "text": [
      "0.8989561786699442\n",
      "{'n_epochs': 20, 'lr_all': 0.01, 'reg_all': 0.2}\n"
     ]
    }
   ],
   "source": [
    "# Set the parameter space to tune\n",
    "param_grid = {'n_epochs': [10, 20, 30], 'lr_all': [0.001, 0.005, 0.01],\n",
    "              'reg_all': [0.2, 0.4, 0.6]}\n",
    "\n",
    "# Performing 3-fold gridsearch cross validation\n",
    "gs = GridSearchCV(SVD, param_grid, measures=['rmse', 'mae'], cv=3, n_jobs=-1)\n",
    "\n",
    "# Fitting data\n",
    "gs.fit(data)\n",
    "\n",
    "# Best RMSE score\n",
    "print(gs.best_score['rmse'])\n",
    "\n",
    "# Combination of parameters that gave the best RMSE score\n",
    "print(gs.best_params['rmse'])"
   ]
  },
  {
   "cell_type": "markdown",
   "id": "d5fa45f4-0135-45eb-8641-ce5277c0e7d1",
   "metadata": {},
   "source": [
    "Once the grid search is complete, we can get the optimal values for each of those hyperparameters, as shown above."
   ]
  },
  {
   "cell_type": "markdown",
   "id": "4f8056c9-694b-4318-8e8d-78e91521dc20",
   "metadata": {},
   "source": [
    "Below we are analysing evaluation metrics - RMSE and MAE at each and every split to analyze the impact of each value of hyperparameters"
   ]
  },
  {
   "cell_type": "code",
   "execution_count": 66,
   "id": "e1cb5f71-3da0-4ca6-b08a-99818c4e15c2",
   "metadata": {},
   "outputs": [
    {
     "data": {
      "text/html": [
       "<div>\n",
       "<style scoped>\n",
       "    .dataframe tbody tr th:only-of-type {\n",
       "        vertical-align: middle;\n",
       "    }\n",
       "\n",
       "    .dataframe tbody tr th {\n",
       "        vertical-align: top;\n",
       "    }\n",
       "\n",
       "    .dataframe thead th {\n",
       "        text-align: right;\n",
       "    }\n",
       "</style>\n",
       "<table border=\"1\" class=\"dataframe\">\n",
       "  <thead>\n",
       "    <tr style=\"text-align: right;\">\n",
       "      <th></th>\n",
       "      <th>split0_test_rmse</th>\n",
       "      <th>split1_test_rmse</th>\n",
       "      <th>split2_test_rmse</th>\n",
       "      <th>mean_test_rmse</th>\n",
       "      <th>std_test_rmse</th>\n",
       "      <th>rank_test_rmse</th>\n",
       "      <th>split0_test_mae</th>\n",
       "      <th>split1_test_mae</th>\n",
       "      <th>split2_test_mae</th>\n",
       "      <th>mean_test_mae</th>\n",
       "      <th>std_test_mae</th>\n",
       "      <th>rank_test_mae</th>\n",
       "      <th>mean_fit_time</th>\n",
       "      <th>std_fit_time</th>\n",
       "      <th>mean_test_time</th>\n",
       "      <th>std_test_time</th>\n",
       "      <th>params</th>\n",
       "      <th>param_n_epochs</th>\n",
       "      <th>param_lr_all</th>\n",
       "      <th>param_reg_all</th>\n",
       "    </tr>\n",
       "  </thead>\n",
       "  <tbody>\n",
       "    <tr>\n",
       "      <th>0</th>\n",
       "      <td>0.955498</td>\n",
       "      <td>0.955646</td>\n",
       "      <td>0.951269</td>\n",
       "      <td>0.954138</td>\n",
       "      <td>0.002029</td>\n",
       "      <td>26</td>\n",
       "      <td>0.740794</td>\n",
       "      <td>0.738800</td>\n",
       "      <td>0.734172</td>\n",
       "      <td>0.737922</td>\n",
       "      <td>0.002774</td>\n",
       "      <td>25</td>\n",
       "      <td>0.699734</td>\n",
       "      <td>0.044493</td>\n",
       "      <td>0.407963</td>\n",
       "      <td>0.058855</td>\n",
       "      <td>{'n_epochs': 10, 'lr_all': 0.001, 'reg_all': 0.2}</td>\n",
       "      <td>10</td>\n",
       "      <td>0.001</td>\n",
       "      <td>0.2</td>\n",
       "    </tr>\n",
       "    <tr>\n",
       "      <th>1</th>\n",
       "      <td>0.955519</td>\n",
       "      <td>0.954183</td>\n",
       "      <td>0.951523</td>\n",
       "      <td>0.953742</td>\n",
       "      <td>0.001661</td>\n",
       "      <td>25</td>\n",
       "      <td>0.741975</td>\n",
       "      <td>0.738266</td>\n",
       "      <td>0.735746</td>\n",
       "      <td>0.738662</td>\n",
       "      <td>0.002558</td>\n",
       "      <td>26</td>\n",
       "      <td>0.808578</td>\n",
       "      <td>0.185778</td>\n",
       "      <td>0.392278</td>\n",
       "      <td>0.075733</td>\n",
       "      <td>{'n_epochs': 10, 'lr_all': 0.001, 'reg_all': 0.4}</td>\n",
       "      <td>10</td>\n",
       "      <td>0.001</td>\n",
       "      <td>0.4</td>\n",
       "    </tr>\n",
       "    <tr>\n",
       "      <th>2</th>\n",
       "      <td>0.956247</td>\n",
       "      <td>0.955193</td>\n",
       "      <td>0.951361</td>\n",
       "      <td>0.954267</td>\n",
       "      <td>0.002099</td>\n",
       "      <td>27</td>\n",
       "      <td>0.743719</td>\n",
       "      <td>0.741034</td>\n",
       "      <td>0.736700</td>\n",
       "      <td>0.740484</td>\n",
       "      <td>0.002892</td>\n",
       "      <td>27</td>\n",
       "      <td>0.680361</td>\n",
       "      <td>0.072628</td>\n",
       "      <td>0.338539</td>\n",
       "      <td>0.019730</td>\n",
       "      <td>{'n_epochs': 10, 'lr_all': 0.001, 'reg_all': 0.6}</td>\n",
       "      <td>10</td>\n",
       "      <td>0.001</td>\n",
       "      <td>0.6</td>\n",
       "    </tr>\n",
       "    <tr>\n",
       "      <th>3</th>\n",
       "      <td>0.913214</td>\n",
       "      <td>0.916084</td>\n",
       "      <td>0.909002</td>\n",
       "      <td>0.912767</td>\n",
       "      <td>0.002908</td>\n",
       "      <td>16</td>\n",
       "      <td>0.688130</td>\n",
       "      <td>0.687046</td>\n",
       "      <td>0.680231</td>\n",
       "      <td>0.685136</td>\n",
       "      <td>0.003496</td>\n",
       "      <td>16</td>\n",
       "      <td>0.633487</td>\n",
       "      <td>0.015806</td>\n",
       "      <td>0.349510</td>\n",
       "      <td>0.009375</td>\n",
       "      <td>{'n_epochs': 10, 'lr_all': 0.005, 'reg_all': 0.2}</td>\n",
       "      <td>10</td>\n",
       "      <td>0.005</td>\n",
       "      <td>0.2</td>\n",
       "    </tr>\n",
       "    <tr>\n",
       "      <th>4</th>\n",
       "      <td>0.914285</td>\n",
       "      <td>0.916933</td>\n",
       "      <td>0.910155</td>\n",
       "      <td>0.913791</td>\n",
       "      <td>0.002789</td>\n",
       "      <td>17</td>\n",
       "      <td>0.692762</td>\n",
       "      <td>0.691156</td>\n",
       "      <td>0.685393</td>\n",
       "      <td>0.689770</td>\n",
       "      <td>0.003164</td>\n",
       "      <td>17</td>\n",
       "      <td>0.686169</td>\n",
       "      <td>0.057236</td>\n",
       "      <td>0.426392</td>\n",
       "      <td>0.037789</td>\n",
       "      <td>{'n_epochs': 10, 'lr_all': 0.005, 'reg_all': 0.4}</td>\n",
       "      <td>10</td>\n",
       "      <td>0.005</td>\n",
       "      <td>0.4</td>\n",
       "    </tr>\n",
       "  </tbody>\n",
       "</table>\n",
       "</div>"
      ],
      "text/plain": [
       "   split0_test_rmse  split1_test_rmse  split2_test_rmse  mean_test_rmse  \\\n",
       "0          0.955498          0.955646          0.951269        0.954138   \n",
       "1          0.955519          0.954183          0.951523        0.953742   \n",
       "2          0.956247          0.955193          0.951361        0.954267   \n",
       "3          0.913214          0.916084          0.909002        0.912767   \n",
       "4          0.914285          0.916933          0.910155        0.913791   \n",
       "\n",
       "   std_test_rmse  rank_test_rmse  split0_test_mae  split1_test_mae  \\\n",
       "0       0.002029              26         0.740794         0.738800   \n",
       "1       0.001661              25         0.741975         0.738266   \n",
       "2       0.002099              27         0.743719         0.741034   \n",
       "3       0.002908              16         0.688130         0.687046   \n",
       "4       0.002789              17         0.692762         0.691156   \n",
       "\n",
       "   split2_test_mae  mean_test_mae  std_test_mae  rank_test_mae  mean_fit_time  \\\n",
       "0         0.734172       0.737922      0.002774             25       0.699734   \n",
       "1         0.735746       0.738662      0.002558             26       0.808578   \n",
       "2         0.736700       0.740484      0.002892             27       0.680361   \n",
       "3         0.680231       0.685136      0.003496             16       0.633487   \n",
       "4         0.685393       0.689770      0.003164             17       0.686169   \n",
       "\n",
       "   std_fit_time  mean_test_time  std_test_time  \\\n",
       "0      0.044493        0.407963       0.058855   \n",
       "1      0.185778        0.392278       0.075733   \n",
       "2      0.072628        0.338539       0.019730   \n",
       "3      0.015806        0.349510       0.009375   \n",
       "4      0.057236        0.426392       0.037789   \n",
       "\n",
       "                                              params  param_n_epochs  \\\n",
       "0  {'n_epochs': 10, 'lr_all': 0.001, 'reg_all': 0.2}              10   \n",
       "1  {'n_epochs': 10, 'lr_all': 0.001, 'reg_all': 0.4}              10   \n",
       "2  {'n_epochs': 10, 'lr_all': 0.001, 'reg_all': 0.6}              10   \n",
       "3  {'n_epochs': 10, 'lr_all': 0.005, 'reg_all': 0.2}              10   \n",
       "4  {'n_epochs': 10, 'lr_all': 0.005, 'reg_all': 0.4}              10   \n",
       "\n",
       "   param_lr_all  param_reg_all  \n",
       "0         0.001            0.2  \n",
       "1         0.001            0.4  \n",
       "2         0.001            0.6  \n",
       "3         0.005            0.2  \n",
       "4         0.005            0.4  "
      ]
     },
     "execution_count": 66,
     "metadata": {},
     "output_type": "execute_result"
    }
   ],
   "source": [
    "results_df = pd.DataFrame.from_dict(gs.cv_results)\n",
    "results_df.head()"
   ]
  },
  {
   "cell_type": "markdown",
   "id": "3ed0868f-86ec-447a-80d5-70bd4958bfed",
   "metadata": {},
   "source": [
    "Now, we will **the build final model** by using **tuned values** of the hyperparameters, which we received using grid search cross-validation above."
   ]
  },
  {
   "cell_type": "code",
   "execution_count": 67,
   "id": "8123e03b-a82f-4c39-8702-cf2960215829",
   "metadata": {},
   "outputs": [
    {
     "name": "stdout",
     "output_type": "stream",
     "text": [
      "RMSE: 0.9233\n"
     ]
    },
    {
     "data": {
      "text/plain": [
       "0.9232698281552618"
      ]
     },
     "execution_count": 67,
     "metadata": {},
     "output_type": "execute_result"
    }
   ],
   "source": [
    "# Building the optimized SVD model using optimal hyperparameter search\n",
    "svd_algo_optimized = SVD(n_epochs=20, lr_all=0.01, reg_all=0.2)\n",
    "\n",
    "# Training the algorithm on the trainset\n",
    "svd_algo_optimized.fit(trainset)\n",
    "\n",
    "# Predicting ratings for the testset\n",
    "predictions = svd_algo_optimized.test(testset)\n",
    "\n",
    "# Computing RMSE\n",
    "accuracy.rmse(predictions)"
   ]
  },
  {
   "cell_type": "markdown",
   "id": "60e4c63d-0f27-4b03-b770-672d2e42cc79",
   "metadata": {},
   "source": [
    "predict rating for an user with userId=0 and for itemId=3906 with the optimized model"
   ]
  },
  {
   "cell_type": "code",
   "execution_count": 68,
   "id": "b9fbe94f-9783-4b21-b807-95406e430937",
   "metadata": {},
   "outputs": [
    {
     "name": "stdout",
     "output_type": "stream",
     "text": [
      "user: 0          item: 3906       r_ui = 4.00   est = 4.80   {'was_impossible': False}\n"
     ]
    },
    {
     "data": {
      "text/plain": [
       "Prediction(uid=0, iid=3906, r_ui=4, est=4.8008475403846225, details={'was_impossible': False})"
      ]
     },
     "execution_count": 68,
     "metadata": {},
     "output_type": "execute_result"
    }
   ],
   "source": [
    "svd_algo_optimized.predict(0,3906, r_ui=4, verbose=True)"
   ]
  },
  {
   "cell_type": "code",
   "execution_count": 69,
   "id": "ba9327cc-3846-4a00-9497-43076b80eb12",
   "metadata": {},
   "outputs": [
    {
     "name": "stdout",
     "output_type": "stream",
     "text": [
      "user: 0          item: 100        r_ui = None   est = 4.55   {'was_impossible': False}\n"
     ]
    },
    {
     "data": {
      "text/plain": [
       "Prediction(uid=0, iid=100, r_ui=None, est=4.5460496738185405, details={'was_impossible': False})"
      ]
     },
     "execution_count": 69,
     "metadata": {},
     "output_type": "execute_result"
    }
   ],
   "source": [
    "svd_algo_optimized.predict(0,100, verbose=True)"
   ]
  },
  {
   "cell_type": "markdown",
   "id": "0ae6670a-c58b-4327-b659-4b3ab34565f0",
   "metadata": {},
   "source": [
    "**Predict the top 5 items for userId=4 with SVD based recommendation system**"
   ]
  },
  {
   "cell_type": "code",
   "execution_count": 71,
   "id": "41f0ab82-c6c2-49d9-8a50-b88b2ef73d5d",
   "metadata": {},
   "outputs": [
    {
     "data": {
      "text/plain": [
       "[(4638, 4.9645465509710105),\n",
       " (4886, 4.923811042855897),\n",
       " (1609, 4.91795316719284),\n",
       " (5, 4.903762311705211),\n",
       " (5068, 4.903151886405843)]"
      ]
     },
     "execution_count": 71,
     "metadata": {},
     "output_type": "execute_result"
    }
   ],
   "source": [
    "get_recommendations(df,4, 5, svd_algo_optimized)"
   ]
  },
  {
   "cell_type": "markdown",
   "id": "daef396c-d308-4c24-953d-4a88202b53fa",
   "metadata": {},
   "source": [
    "### **Predicting ratings for already interacted items**"
   ]
  },
  {
   "cell_type": "markdown",
   "id": "de9c8a01-1db8-4269-990a-7070e73cb500",
   "metadata": {},
   "source": [
    "Below we are comparing the rating predictions of users for those items which has been already watched by an user. This will help us to understand how well are predictions are as compared to the actual ratings provided by users"
   ]
  },
  {
   "cell_type": "code",
   "execution_count": 72,
   "id": "355e84c7-b372-4fb7-be86-6c8e94e607e2",
   "metadata": {},
   "outputs": [],
   "source": [
    "def predict_already_interacted_ratings(data, user_id, algo):\n",
    "    \n",
    "    # Creating an empty list to store the recommended item ids\n",
    "    recommendations = []\n",
    "    \n",
    "    # Creating an user item interactions matrix \n",
    "    user_item_interactions_matrix = data.pivot(index='user_id', columns='item_id', values='rating')\n",
    "    \n",
    "    # Extracting those item ids which the user_id has interacted already\n",
    "    interacted_items = user_item_interactions_matrix.loc[user_id][user_item_interactions_matrix.loc[user_id].notnull()].index.tolist()\n",
    "    \n",
    "    # Looping through each of the item id which user_id has interacted already\n",
    "    for item_id in interacted_items:\n",
    "        \n",
    "        # Extracting actual ratings\n",
    "        actual_rating = user_item_interactions_matrix.loc[user_id, item_id]\n",
    "        \n",
    "        # Predicting the ratings for those non interacted item ids by this user\n",
    "        predicted_rating = algo.predict(user_id, item_id).est\n",
    "        \n",
    "        # Appending the predicted ratings\n",
    "        recommendations.append((item_id, actual_rating, predicted_rating))\n",
    "\n",
    "    # Sorting the predicted ratings in descending order\n",
    "    recommendations.sort(key=lambda x: x[1], reverse=True)\n",
    "\n",
    "    return pd.DataFrame(recommendations, columns=['itemId', 'actual_rating', 'predicted_rating']) # returing top n highest predicted rating items for this user"
   ]
  },
  {
   "cell_type": "markdown",
   "id": "34e76ce0-914e-423d-932d-5b4b355ccb7f",
   "metadata": {},
   "source": [
    "Here we are comparing the predicted ratings by similarity based recommendation system against actual ratings for userId=4"
   ]
  },
  {
   "cell_type": "code",
   "execution_count": 75,
   "id": "b5abbeb5-7f48-442c-83d6-db90d98a2eed",
   "metadata": {},
   "outputs": [
    {
     "data": {
      "image/png": "[encoded data removed]",
      "text/plain": [
       "<Figure size 664.5x500 with 1 Axes>"
      ]
     },
     "metadata": {},
     "output_type": "display_data"
    }
   ],
   "source": [
    "#similarity based recommendation system\n",
    "\n",
    "predicted_ratings_for_interacted_items = predict_already_interacted_ratings(df,4, similarity_algo_optimized_user)\n",
    "data = predicted_ratings_for_interacted_items.melt(id_vars='itemId', value_vars=['actual_rating', 'predicted_rating'])\n",
    "sns.displot(data=data, x='value', hue='variable', kde=True);"
   ]
  },
  {
   "cell_type": "markdown",
   "id": "d073596f-cc65-433f-b6e5-38e3baffd90b",
   "metadata": {},
   "source": [
    "- We can see that distribution of predicted ratings is closely following the distribution of actual ratings. The total bins for predicted ratings are nearly same as to the total bins for actual ratings.\n",
    "- We are getting more predicted values in between 4 and 5,this is expected, as actual ratings always have discreet values like 1, 2, 3, 4, 5, but predicted ratings can have continuous values as we are taking aggregated ratings from the nearest neighbors of a given user. But over the predictions looks good as compared to the distribution of actual ratings."
   ]
  },
  {
   "cell_type": "code",
   "execution_count": 76,
   "id": "d09b63b8-c53d-4e88-9da0-20f6a6947786",
   "metadata": {},
   "outputs": [
    {
     "data": {
      "image/png": "[encoded data removed]",
      "text/plain": [
       "<Figure size 664.5x500 with 1 Axes>"
      ]
     },
     "metadata": {},
     "output_type": "display_data"
    }
   ],
   "source": [
    "#matrix factorization based recommendation system\n",
    "\n",
    "predicted_ratings_for_interacted_items = predict_already_interacted_ratings(df,4, svd_algo_optimized)\n",
    "data = predicted_ratings_for_interacted_items.melt(id_vars='itemId', value_vars=['actual_rating', 'predicted_rating'])\n",
    "sns.displot(data=data, x='value', hue='variable', kde=True);"
   ]
  },
  {
   "cell_type": "code",
   "execution_count": null,
   "id": "1ce28c64-f257-43a1-a3a8-574104407fc2",
   "metadata": {},
   "outputs": [],
   "source": []
  }
 ],
 "metadata": {
  "kernelspec": {
   "display_name": "default:Python",
   "language": "python",
   "name": "conda-env-default-py"
  },
  "language_info": {
   "codemirror_mode": {
    "name": "ipython",
    "version": 3
   },
   "file_extension": ".py",
   "mimetype": "text/x-python",
   "name": "python",
   "nbconvert_exporter": "python",
   "pygments_lexer": "ipython3",
   "version": "3.9.13"
  }
 },
 "nbformat": 4,
 "nbformat_minor": 5
}
